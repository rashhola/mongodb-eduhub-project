{
 "cells": [
  {
   "cell_type": "code",
   "execution_count": 7,
   "id": "76c07592-cd94-4209-8d18-071c8325a1f8",
   "metadata": {
    "scrolled": true
   },
   "outputs": [
    {
     "name": "stdout",
     "output_type": "stream",
     "text": [
      "Requirement already satisfied: pymongo in c:\\users\\rashe\\appdata\\local\\programs\\python\\python310\\lib\\site-packages (4.13.1)\n",
      "Requirement already satisfied: dnspython<3.0.0,>=1.16.0 in c:\\users\\rashe\\appdata\\local\\programs\\python\\python310\\lib\\site-packages (from pymongo) (2.7.0)\n"
     ]
    }
   ],
   "source": [
    "#import libraries as needed\n",
    "!pip install pymongo\n",
    "from pymongo import MongoClient\n",
    "from pymongo import MongoClient\n",
    "from datetime import datetime\n",
    "import pandas as pd"
   ]
  },
  {
   "cell_type": "code",
   "execution_count": 6,
   "id": "6b101343-1d01-4fd2-a2c6-8fb4dede71b3",
   "metadata": {},
   "outputs": [
    {
     "name": "stdout",
     "output_type": "stream",
     "text": [
      "Requirement already satisfied: pip in c:\\users\\rashe\\appdata\\local\\programs\\python\\python310\\lib\\site-packages (24.3.1)\n",
      "Collecting pip\n",
      "  Downloading pip-25.1.1-py3-none-any.whl.metadata (3.6 kB)\n",
      "Downloading pip-25.1.1-py3-none-any.whl (1.8 MB)\n",
      "   ---------------------------------------- 0.0/1.8 MB ? eta -:--:--\n",
      "   ----- ---------------------------------- 0.3/1.8 MB ? eta -:--:--\n",
      "   ----------------- ---------------------- 0.8/1.8 MB 3.0 MB/s eta 0:00:01\n",
      "   ---------------------------------- ----- 1.6/1.8 MB 3.2 MB/s eta 0:00:01\n",
      "   ---------------------------------------- 1.8/1.8 MB 3.2 MB/s eta 0:00:00\n",
      "Installing collected packages: pip\n",
      "  Attempting uninstall: pip\n",
      "    Found existing installation: pip 24.3.1\n",
      "    Uninstalling pip-24.3.1:\n",
      "      Successfully uninstalled pip-24.3.1\n",
      "Successfully installed pip-25.1.1\n"
     ]
    }
   ],
   "source": [
    "#upgrade of pip\n",
    "import sys\n",
    "!{sys.executable} -m pip install --upgrade pip"
   ]
  },
  {
   "cell_type": "code",
   "execution_count": 8,
   "id": "fa6317d7-0f21-4f5e-950b-47ac4c38b88e",
   "metadata": {},
   "outputs": [],
   "source": [
    "#Initializing the database\n",
    "client = MongoClient('mongodb://localhost:27017/')\n",
    "db = client['eduhub_db']"
   ]
  },
  {
   "cell_type": "code",
   "execution_count": 48,
   "id": "a2e8c951-3aef-474b-8185-dcbfe263c383",
   "metadata": {},
   "outputs": [],
   "source": [
    "#user document schema\n",
    "\n",
    "users_schema = {\n",
    "    \"_id\": \"ObjectId (auto-generated)\",\n",
    "\n",
    "    \"firstName\": \"string (required)\",\n",
    "    \"lastName\": \"string (required)\",\n",
    "    \"email\": \"string (required)\",\n",
    "\n",
    "    \"role\": \"string (enum: ['student', 'instructor'])\",\n",
    "\n",
    "    \"dateJoined\": \"datetime (optional)\",\n",
    "\n",
    "    \"profile\": {\n",
    "        \"bio\": \"string (optional)\",\n",
    "        \"avatar\": \"string (optional)\",\n",
    "        \"skills\": [\"string\"]  # optional array of strings\n",
    "    },\n",
    "\n",
    "    \"isActive\": \"boolean (optional)\"\n",
    "}\n"
   ]
  },
  {
   "cell_type": "code",
   "execution_count": 49,
   "id": "1b1e9bed-71cd-475a-a3dd-5596895cfef6",
   "metadata": {},
   "outputs": [],
   "source": [
    "users_validator = {\n",
    "    \"$jsonSchema\": {\n",
    "        \"bsonType\": \"object\",\n",
    "        \"required\": [\"firstName\", \"lastName\", \"email\", \"role\"],\n",
    "        \"properties\": {\n",
    "            \"firstName\": {\"bsonType\": \"string\"},\n",
    "            \"lastName\": {\"bsonType\": \"string\"},\n",
    "            \"email\": {\"bsonType\": \"string\"},\n",
    "            \"role\": {\"enum\": [\"student\", \"instructor\"]},\n",
    "            \"dateJoined\": {\"bsonType\": \"date\"},\n",
    "            \"profile\": {\n",
    "                \"bsonType\": \"object\",\n",
    "                \"properties\": {\n",
    "                    \"bio\": {\"bsonType\": \"string\"},\n",
    "                    \"avatar\": {\"bsonType\": \"string\"},\n",
    "                    \"skills\": {\n",
    "                        \"bsonType\": \"array\",\n",
    "                        \"items\": {\"bsonType\": \"string\"}\n",
    "                    }\n",
    "                }\n",
    "            },\n",
    "            \"isActive\": {\"bsonType\": \"bool\"}\n",
    "        }\n",
    "    }\n",
    "}"
   ]
  },
  {
   "cell_type": "code",
   "execution_count": 24,
   "id": "cb4dddd4-630f-449b-8315-1b524108e49b",
   "metadata": {},
   "outputs": [
    {
     "data": {
      "text/plain": [
       "{'ok': 1.0}"
      ]
     },
     "execution_count": 24,
     "metadata": {},
     "output_type": "execute_result"
    }
   ],
   "source": [
    "course_validator = {\n",
    "    \"$jsonSchema\": {\n",
    "        \"bsonType\": \"object\",\n",
    "        \"required\": [\"courseId\", \"title\", \"instructorId\", \"level\", \"duration\", \"price\", \"createdAt\", \"updatedAt\", \"isPublished\"],\n",
    "        \"properties\": {\n",
    "            \"courseId\": {\"bsonType\": \"string\"},\n",
    "            \"title\": {\"bsonType\": \"string\"},\n",
    "            \"description\": {\"bsonType\": \"string\"},\n",
    "            \"instructorId\": {\"bsonType\": \"string\"},  # referencing user.userId\n",
    "            \"category\": {\"bsonType\": \"string\"},\n",
    "            \"level\": {\"enum\": [\"beginner\", \"intermediate\", \"advanced\"]},\n",
    "            \"duration\": {\"bsonType\": [\"double\", \"int\"]},  # to handle both 8.2 and 8\n",
    "            \"price\": {\"bsonType\": [\"double\", \"int\"]},\n",
    "            \"tags\": {\n",
    "                \"bsonType\": \"array\",\n",
    "                \"items\": {\"bsonType\": \"string\"}\n",
    "            },\n",
    "            \"createdAt\": {\"bsonType\": \"date\"},\n",
    "            \"updatedAt\": {\"bsonType\": \"date\"},\n",
    "            \"isPublished\": {\"bsonType\": \"bool\"}\n",
    "        }\n",
    "    }\n",
    "}\n",
    "\n",
    "# Apply this validator to the 'courses' collection\n",
    "db.command({\n",
    "    \"collMod\": \"courses\",\n",
    "    \"validator\": course_validator,\n",
    "    \"validationLevel\": \"moderate\"\n",
    "})"
   ]
  },
  {
   "cell_type": "code",
   "execution_count": 14,
   "id": "1e81ddfc-15f2-44f5-b89f-c4993130ab98",
   "metadata": {},
   "outputs": [],
   "source": [
    "course_schema = {\n",
    "\n",
    "    \"_id\": \"ObjectId (auto-generated)\",\n",
    "\n",
    "    \"courseId\": \"string (unique)\",\n",
    "\n",
    "    \"title\": \"string (required)\",\n",
    "\n",
    "    \"description\": \"string\",\n",
    "\n",
    "    \"instructorId\": \"string (reference to users)\",\n",
    "\n",
    "    \"category\": \"string\",\n",
    "\n",
    "    \"level\": \"string (enum: [‘beginner’, ‘intermediate’, ‘advanced’])\",\n",
    "\n",
    "    \"duration\": \"number (in hours)\",\n",
    "\n",
    "    \"price\": \"number\",\n",
    "\n",
    "    \"tags\": [\"string\"],\n",
    "\n",
    "    \"createdAt\": \"datetime\",\n",
    "\n",
    "    \"updatedAt\": \"datetime\",\n",
    "\n",
    "    \"isPublished\": \"boolean\"\n",
    "\n",
    "}"
   ]
  },
  {
   "cell_type": "code",
   "execution_count": 27,
   "id": "f8137728-bef2-498c-9e60-a52edd816961",
   "metadata": {},
   "outputs": [
    {
     "data": {
      "text/plain": [
       "{'ok': 1.0}"
      ]
     },
     "execution_count": 27,
     "metadata": {},
     "output_type": "execute_result"
    }
   ],
   "source": [
    "# Enrollments collection\n",
    "enrollment_validator = {\n",
    "    \"$jsonSchema\": {\n",
    "        \"bsonType\": \"object\",\n",
    "        \"required\": [\"enrollmentId\", \"studentId\", \"courseId\", \"enrolledAt\", \"progress\", \"status\"],\n",
    "        \"properties\": {\n",
    "            \"enrollmentId\": {\"bsonType\": \"string\"},\n",
    "            \"studentId\": {\"bsonType\": \"string\"},  # Should match users.userId\n",
    "            \"courseId\": {\"bsonType\": \"string\"},   # Should match courses.courseId\n",
    "            \"enrolledAt\": {\"bsonType\": \"date\"},\n",
    "            \"progress\": {\n",
    "                \"bsonType\": [\"int\", \"double\"],\n",
    "                \"minimum\": 0,\n",
    "                \"maximum\": 100\n",
    "            },\n",
    "            \"status\": {\n",
    "                \"enum\": [\"enrolled\", \"completed\", \"dropped\"]\n",
    "            }\n",
    "        }\n",
    "    }\n",
    "}\n",
    "\n",
    "# Apply the validator to the enrollments collection\n",
    "db.command({\n",
    "    \"collMod\": \"enrollments\",\n",
    "    \"validator\": enrollment_validator,\n",
    "    \"validationLevel\": \"moderate\"\n",
    "})\n"
   ]
  },
  {
   "cell_type": "code",
   "execution_count": null,
   "id": "cbfd9ba0-9e7e-434b-84de-98a04f8f26a5",
   "metadata": {},
   "outputs": [],
   "source": [
    "enrollment_schema = {\n",
    "    \"_id\": \"ObjectId (auto-generated)\",\n",
    "\n",
    "    \"enrollmentId\": \"string (unique)\",\n",
    "\n",
    "    \"studentId\": \"string (reference to users.userId)\",\n",
    "\n",
    "    \"courseId\": \"string (reference to courses.courseId)\",\n",
    "\n",
    "    \"enrolledAt\": \"datetime\",\n",
    "\n",
    "    \"progress\": \"number (percentage, e.g., 75)\",\n",
    "\n",
    "    \"status\": \"string (enum: ['enrolled', 'completed', 'dropped'])\"\n",
    "}"
   ]
  },
  {
   "cell_type": "code",
   "execution_count": 29,
   "id": "c050dace-6aef-4353-aac1-b77b19d3217b",
   "metadata": {},
   "outputs": [
    {
     "data": {
      "text/plain": [
       "{'ok': 1.0}"
      ]
     },
     "execution_count": 29,
     "metadata": {},
     "output_type": "execute_result"
    }
   ],
   "source": [
    "lesson_validator = {\n",
    "    \"$jsonSchema\": {\n",
    "        \"bsonType\": \"object\",\n",
    "        \"required\": [\"lessonId\", \"courseId\", \"title\", \"content\", \"position\", \"createdAt\", \"updatedAt\"],\n",
    "        \"properties\": {\n",
    "            \"lessonId\": {\"bsonType\": \"string\"},\n",
    "            \"courseId\": {\"bsonType\": \"string\"},  # Reference to courses.courseId\n",
    "            \"title\": {\"bsonType\": \"string\"},\n",
    "            \"content\": {\"bsonType\": \"string\"},   # Can contain HTML or markdown\n",
    "            \"videoUrl\": {\n",
    "                \"bsonType\": \"string\"\n",
    "            },\n",
    "            \"position\": {\n",
    "                \"bsonType\": [\"int\", \"double\"],\n",
    "                \"minimum\": 1\n",
    "            },\n",
    "            \"createdAt\": {\"bsonType\": \"date\"},\n",
    "            \"updatedAt\": {\"bsonType\": \"date\"}\n",
    "        }\n",
    "    }\n",
    "}\n",
    "\n",
    "# Apply the validator to the lessons collection\n",
    "db.command({\n",
    "    \"collMod\": \"lessons\",\n",
    "    \"validator\": lesson_validator,\n",
    "    \"validationLevel\": \"moderate\"\n",
    "})\n"
   ]
  },
  {
   "cell_type": "code",
   "execution_count": null,
   "id": "ab7ba709-7d96-467c-893f-22bef32ee507",
   "metadata": {},
   "outputs": [],
   "source": [
    "lesson_schema = {\n",
    "    \"_id\": \"ObjectId (auto-generated)\",\n",
    "\n",
    "    \"lessonId\": \"string (unique)\",\n",
    "\n",
    "    \"courseId\": \"string (reference to courses.courseId)\",\n",
    "\n",
    "    \"title\": \"string (required)\",\n",
    "\n",
    "    \"content\": \"string (HTML or markdown)\",\n",
    "\n",
    "    \"videoUrl\": \"string (optional)\",\n",
    "\n",
    "    \"position\": \"number (order in course)\",\n",
    "\n",
    "    \"createdAt\": \"datetime\",\n",
    "\n",
    "    \"updatedAt\": \"datetime\"\n",
    "}"
   ]
  },
  {
   "cell_type": "code",
   "execution_count": 31,
   "id": "45785f75-7c1e-4fa8-9c82-3f7a984b837b",
   "metadata": {},
   "outputs": [
    {
     "data": {
      "text/plain": [
       "{'ok': 1.0}"
      ]
     },
     "execution_count": 31,
     "metadata": {},
     "output_type": "execute_result"
    }
   ],
   "source": [
    "#Assignment validator\n",
    "assignment_validator = {\n",
    "    \"$jsonSchema\": {\n",
    "        \"bsonType\": \"object\",\n",
    "        \"required\": [\"assignmentId\", \"courseId\", \"title\", \"dueDate\", \"totalMarks\", \"createdAt\", \"updatedAt\"],\n",
    "        \"properties\": {\n",
    "            \"assignmentId\": {\"bsonType\": \"string\"},\n",
    "            \"courseId\": {\"bsonType\": \"string\"},  # Reference to courses.courseId\n",
    "            \"title\": {\"bsonType\": \"string\"},\n",
    "            \"description\": {\"bsonType\": \"string\"},\n",
    "            \"dueDate\": {\"bsonType\": \"date\"},\n",
    "            \"totalMarks\": {\n",
    "                \"bsonType\": [\"int\", \"double\"],\n",
    "                \"minimum\": 0\n",
    "            },\n",
    "            \"createdAt\": {\"bsonType\": \"date\"},\n",
    "            \"updatedAt\": {\"bsonType\": \"date\"}\n",
    "        }\n",
    "    }\n",
    "}\n",
    "\n",
    "# Apply the validator to the assignments collection\n",
    "db.command({\n",
    "    \"collMod\": \"assignments\",\n",
    "    \"validator\": assignment_validator,\n",
    "    \"validationLevel\": \"moderate\"\n",
    "})"
   ]
  },
  {
   "cell_type": "code",
   "execution_count": null,
   "id": "4b2f0c87-7ba6-4253-bbe2-8b34933f6e42",
   "metadata": {},
   "outputs": [],
   "source": [
    "assignment_schema = {\n",
    "    \"_id\": \"ObjectId (auto-generated)\",\n",
    "\n",
    "    \"assignmentId\": \"string (unique)\",\n",
    "\n",
    "    \"courseId\": \"string (reference to courses.courseId)\",\n",
    "\n",
    "    \"title\": \"string (required)\",\n",
    "\n",
    "    \"description\": \"string\",\n",
    "\n",
    "    \"dueDate\": \"datetime\",\n",
    "\n",
    "    \"totalMarks\": \"number\",\n",
    "\n",
    "    \"createdAt\": \"datetime\",\n",
    "\n",
    "    \"updatedAt\": \"datetime\"\n",
    "}"
   ]
  },
  {
   "cell_type": "code",
   "execution_count": 35,
   "id": "b3d8ca09-b090-4fc5-9d47-855f409f0496",
   "metadata": {},
   "outputs": [],
   "source": [
    "#Submission validator\n",
    "submission_validator = {\n",
    "    \"$jsonSchema\": {\n",
    "        \"bsonType\": \"object\",\n",
    "        \"required\": [\n",
    "            \"submissionId\",\n",
    "            \"assignmentId\",\n",
    "            \"studentId\",\n",
    "            \"submittedAt\",\n",
    "            \"content\",\n",
    "            \"status\"\n",
    "        ],\n",
    "        \"properties\": {\n",
    "            \"submissionId\": {\"bsonType\": \"string\"},\n",
    "            \"assignmentId\": {\"bsonType\": \"string\"},\n",
    "            \"studentId\": {\"bsonType\": \"string\"},\n",
    "            \"submittedAt\": {\"bsonType\": \"date\"},\n",
    "            \"content\": {\"bsonType\": \"string\"},\n",
    "            \"grade\": {\n",
    "                \"bsonType\": \"object\",\n",
    "                \"properties\": {\n",
    "                    \"score\": {\n",
    "                        \"bsonType\": [\"int\", \"double\"],\n",
    "                        \"minimum\": 0\n",
    "                    },\n",
    "                    \"feedback\": {\"bsonType\": \"string\"},\n",
    "                    \"gradedAt\": {\"bsonType\": \"date\"},\n",
    "                    \"gradedBy\": {\"bsonType\": \"string\"}\n",
    "                }\n",
    "            },\n",
    "            \"status\": {\n",
    "                \"enum\": [\"submitted\", \"graded\", \"late\"]\n",
    "            }\n",
    "        }\n",
    "    }\n",
    "}\n"
   ]
  },
  {
   "cell_type": "code",
   "execution_count": null,
   "id": "013e8217-2f70-4b0a-83b6-b0afe8a7710b",
   "metadata": {},
   "outputs": [],
   "source": [
    "submission_schema = {\n",
    "    \"_id\": \"ObjectId (auto-generated)\",\n",
    "\n",
    "    \"submissionId\": \"string (unique)\",\n",
    "\n",
    "    \"assignmentId\": \"string (reference to assignments.assignmentId)\",\n",
    "\n",
    "    \"studentId\": \"string (reference to users.userId)\",\n",
    "\n",
    "    \"submittedAt\": \"datetime\",\n",
    "\n",
    "    \"content\": \"string (URL, text, or file reference)\",\n",
    "\n",
    "    \"grade\": {\n",
    "        \"score\": \"number\",\n",
    "        \"feedback\": \"string\",\n",
    "        \"gradedAt\": \"datetime\",\n",
    "        \"gradedBy\": \"string (instructorId)\"\n",
    "    },\n",
    "\n",
    "    \"status\": \"string (enum: ['submitted', 'graded', 'late'])\"\n",
    "}"
   ]
  },
  {
   "cell_type": "code",
   "execution_count": 16,
   "id": "ebddc0e2-91e3-4778-b632-233377af9dcb",
   "metadata": {},
   "outputs": [],
   "source": [
    "import random\n",
    "import uuid"
   ]
  },
  {
   "cell_type": "code",
   "execution_count": 20,
   "id": "b3b3ff8c-2753-4441-be43-402031ceaf3f",
   "metadata": {},
   "outputs": [
    {
     "data": {
      "text/plain": [
       "{'ok': 1.0}"
      ]
     },
     "execution_count": 20,
     "metadata": {},
     "output_type": "execute_result"
    }
   ],
   "source": [
    "db.command({\n",
    "    \"collMod\": \"users\",\n",
    "    \"validator\": user_validator,\n",
    "    \"validationLevel\": \"moderate\"\n",
    "})"
   ]
  },
  {
   "cell_type": "code",
   "execution_count": 122,
   "id": "78873c7f-cd1a-4c78-99a3-a44712ebe475",
   "metadata": {},
   "outputs": [],
   "source": [
    "import pandas as pd"
   ]
  },
  {
   "cell_type": "code",
   "execution_count": null,
   "id": "f7c69ab2-f40d-4cda-b3bc-430a4f46b3bf",
   "metadata": {},
   "outputs": [],
   "source": [
    "#insert users\n",
    "from datetime import datetime\n",
    "import random\n",
    "import uuid\n",
    "\n",
    "roles = ['student', 'instructor']\n",
    "users = []\n",
    "\n",
    "for i in range(20):\n",
    "    role = random.choice(roles)\n",
    "    user = {\n",
    "        \"userId\": str(uuid.uuid4()),\n",
    "        \"email\": f\"user{i}@eduhub.com\",\n",
    "        \"firstName\": f\"First{i}\",\n",
    "        \"lastName\": f\"Last{i}\",\n",
    "        \"role\": role,\n",
    "        \"dateJoined\": datetime.now(),\n",
    "        \"profile\": {\n",
    "            \"bio\": f\"This is user {i}'s bio.\",\n",
    "            \"avatar\": f\"https://avatar.com/u{i}.png\",\n",
    "            \"skills\": [\"Python\", \"Data\", \"Web\"][0:random.randint(1, 3)]\n",
    "        },\n",
    "        \"isActive\": True\n",
    "    }\n",
    "    users.append(user)\n",
    "\n",
    "# Insert into MongoDB\n",
    "db.users.insert_many(users)"
   ]
  },
  {
   "cell_type": "code",
   "execution_count": 25,
   "id": "499cfc63-c98b-4325-bb0a-acb1c97564a2",
   "metadata": {},
   "outputs": [
    {
     "data": {
      "text/plain": [
       "InsertManyResult([ObjectId('684fbc191e9483271544a5df'), ObjectId('684fbc191e9483271544a5e0'), ObjectId('684fbc191e9483271544a5e1'), ObjectId('684fbc191e9483271544a5e2'), ObjectId('684fbc191e9483271544a5e3'), ObjectId('684fbc191e9483271544a5e4'), ObjectId('684fbc191e9483271544a5e5'), ObjectId('684fbc191e9483271544a5e6')], acknowledged=True)"
      ]
     },
     "execution_count": 25,
     "metadata": {},
     "output_type": "execute_result"
    }
   ],
   "source": [
    "#Insert Courses\n",
    "\n",
    "course_levels = ['beginner', 'intermediate', 'advanced']\n",
    "categories = ['Data Science', 'Web Dev', 'AI', 'Cloud']\n",
    "instructors = [u for u in users if u['role'] == 'instructor']\n",
    "courses = []\n",
    "\n",
    "for i in range(8):\n",
    "    instructor = random.choice(instructors)\n",
    "    course = {\n",
    "        \"courseId\": str(uuid.uuid4()),\n",
    "        \"title\": f\"Course {i}\",\n",
    "        \"description\": f\"This is course {i} description.\",\n",
    "        \"instructorId\": instructor[\"userId\"],\n",
    "        \"category\": random.choice(categories),\n",
    "        \"level\": random.choice(course_levels),\n",
    "        \"duration\": round(random.uniform(1.5, 10), 1),\n",
    "        \"price\": round(random.uniform(10, 200), 2),\n",
    "        \"tags\": [\"tech\", \"edu\", \"skill\"][0:random.randint(1, 3)],\n",
    "        \"createdAt\": datetime.now(),\n",
    "        \"updatedAt\": datetime.now(),\n",
    "        \"isPublished\": True\n",
    "    }\n",
    "    courses.append(course)\n",
    "\n",
    "db.courses.insert_many(courses)\n"
   ]
  },
  {
   "cell_type": "code",
   "execution_count": 28,
   "id": "94d65fda-6342-401a-b7f7-81085ebdb8f6",
   "metadata": {},
   "outputs": [
    {
     "data": {
      "text/plain": [
       "InsertManyResult([ObjectId('684fbe431e9483271544a5f6'), ObjectId('684fbe431e9483271544a5f7'), ObjectId('684fbe431e9483271544a5f8'), ObjectId('684fbe431e9483271544a5f9'), ObjectId('684fbe431e9483271544a5fa'), ObjectId('684fbe431e9483271544a5fb'), ObjectId('684fbe431e9483271544a5fc'), ObjectId('684fbe431e9483271544a5fd'), ObjectId('684fbe431e9483271544a5fe'), ObjectId('684fbe431e9483271544a5ff'), ObjectId('684fbe431e9483271544a600'), ObjectId('684fbe431e9483271544a601'), ObjectId('684fbe431e9483271544a602'), ObjectId('684fbe431e9483271544a603'), ObjectId('684fbe431e9483271544a604')], acknowledged=True)"
      ]
     },
     "execution_count": 28,
     "metadata": {},
     "output_type": "execute_result"
    }
   ],
   "source": [
    "#Insert enrollments\n",
    "students = [u for u in users if u['role'] == 'student']\n",
    "enrollments = []\n",
    "\n",
    "for i in range(15):\n",
    "    enrollment = {\n",
    "        \"enrollmentId\": str(uuid.uuid4()),\n",
    "        \"studentId\": random.choice(students)[\"userId\"],\n",
    "        \"courseId\": random.choice(courses)[\"courseId\"],\n",
    "        \"enrolledAt\": datetime.now(),\n",
    "        \"progress\": random.randint(0, 100),\n",
    "        \"status\": random.choice(['enrolled', 'completed', 'dropped'])\n",
    "    }\n",
    "    enrollments.append(enrollment)\n",
    "\n",
    "db.enrollments.insert_many(enrollments)"
   ]
  },
  {
   "cell_type": "code",
   "execution_count": 30,
   "id": "e0ea96bd-44b7-4522-8421-6a1a47e8ab3d",
   "metadata": {},
   "outputs": [
    {
     "data": {
      "text/plain": [
       "InsertManyResult([ObjectId('684fbf781e9483271544a605'), ObjectId('684fbf781e9483271544a606'), ObjectId('684fbf781e9483271544a607'), ObjectId('684fbf781e9483271544a608'), ObjectId('684fbf781e9483271544a609'), ObjectId('684fbf781e9483271544a60a'), ObjectId('684fbf781e9483271544a60b'), ObjectId('684fbf781e9483271544a60c'), ObjectId('684fbf781e9483271544a60d'), ObjectId('684fbf781e9483271544a60e'), ObjectId('684fbf781e9483271544a60f'), ObjectId('684fbf781e9483271544a610'), ObjectId('684fbf781e9483271544a611'), ObjectId('684fbf781e9483271544a612'), ObjectId('684fbf781e9483271544a613'), ObjectId('684fbf781e9483271544a614'), ObjectId('684fbf781e9483271544a615'), ObjectId('684fbf781e9483271544a616'), ObjectId('684fbf781e9483271544a617'), ObjectId('684fbf781e9483271544a618'), ObjectId('684fbf781e9483271544a619'), ObjectId('684fbf781e9483271544a61a'), ObjectId('684fbf781e9483271544a61b'), ObjectId('684fbf781e9483271544a61c'), ObjectId('684fbf781e9483271544a61d')], acknowledged=True)"
      ]
     },
     "execution_count": 30,
     "metadata": {},
     "output_type": "execute_result"
    }
   ],
   "source": [
    "#insert Lesson\n",
    "lessons = []\n",
    "\n",
    "for i in range(25):\n",
    "    course = random.choice(courses)\n",
    "    lesson = {\n",
    "        \"lessonId\": str(uuid.uuid4()),\n",
    "        \"courseId\": course[\"courseId\"],\n",
    "        \"title\": f\"Lesson {i}\",\n",
    "        \"content\": f\"Lesson {i} content in markdown or HTML.\",\n",
    "        \"videoUrl\": f\"https://videos.com/lesson{i}\",\n",
    "        \"position\": random.randint(1, 10),\n",
    "        \"createdAt\": datetime.now(),\n",
    "        \"updatedAt\": datetime.now()\n",
    "    }\n",
    "    lessons.append(lesson)\n",
    "\n",
    "db.lessons.insert_many(lessons)"
   ]
  },
  {
   "cell_type": "code",
   "execution_count": 32,
   "id": "9ec39880-52a6-459b-8d40-c1ba40881fec",
   "metadata": {},
   "outputs": [
    {
     "data": {
      "text/plain": [
       "InsertManyResult([ObjectId('684fc05f1e9483271544a61e'), ObjectId('684fc05f1e9483271544a61f'), ObjectId('684fc05f1e9483271544a620'), ObjectId('684fc05f1e9483271544a621'), ObjectId('684fc05f1e9483271544a622'), ObjectId('684fc05f1e9483271544a623'), ObjectId('684fc05f1e9483271544a624'), ObjectId('684fc05f1e9483271544a625'), ObjectId('684fc05f1e9483271544a626'), ObjectId('684fc05f1e9483271544a627')], acknowledged=True)"
      ]
     },
     "execution_count": 32,
     "metadata": {},
     "output_type": "execute_result"
    }
   ],
   "source": [
    "#Insert assignment\n",
    "assignments = []\n",
    "\n",
    "for i in range(10):\n",
    "    course = random.choice(courses)\n",
    "    assignment = {\n",
    "        \"assignmentId\": str(uuid.uuid4()),\n",
    "        \"courseId\": course[\"courseId\"],\n",
    "        \"title\": f\"Assignment {i}\",\n",
    "        \"description\": f\"This is the description for assignment {i}.\",\n",
    "        \"dueDate\": datetime(2025, 12, 31),\n",
    "        \"totalMarks\": 100,\n",
    "        \"createdAt\": datetime.now(),\n",
    "        \"updatedAt\": datetime.now()\n",
    "    }\n",
    "    assignments.append(assignment)\n",
    "\n",
    "db.assignments.insert_many(assignments)\n"
   ]
  },
  {
   "cell_type": "code",
   "execution_count": 36,
   "id": "80c5efbb-d356-4d77-9af8-98eb794d8bc9",
   "metadata": {},
   "outputs": [
    {
     "data": {
      "text/plain": [
       "InsertManyResult([ObjectId('684fc3301e9483271544a634'), ObjectId('684fc3301e9483271544a635'), ObjectId('684fc3301e9483271544a636'), ObjectId('684fc3301e9483271544a637'), ObjectId('684fc3301e9483271544a638'), ObjectId('684fc3301e9483271544a639'), ObjectId('684fc3301e9483271544a63a'), ObjectId('684fc3301e9483271544a63b'), ObjectId('684fc3301e9483271544a63c'), ObjectId('684fc3301e9483271544a63d'), ObjectId('684fc3301e9483271544a63e'), ObjectId('684fc3301e9483271544a63f')], acknowledged=True)"
      ]
     },
     "execution_count": 36,
     "metadata": {},
     "output_type": "execute_result"
    }
   ],
   "source": [
    "#insert submission\n",
    "submissions = []\n",
    "\n",
    "for i in range(12):\n",
    "    assignment = random.choice(assignments)\n",
    "    student = random.choice(students)\n",
    "    graded = random.choice([True, False])\n",
    "\n",
    "    submission = {\n",
    "        \"submissionId\": str(uuid.uuid4()),\n",
    "        \"assignmentId\": assignment[\"assignmentId\"],\n",
    "        \"studentId\": student[\"userId\"],\n",
    "        \"submittedAt\": datetime.now(),\n",
    "        \"content\": f\"https://submissions.com/s{i}\",\n",
    "        \"status\": \"graded\" if graded else \"submitted\"\n",
    "    }\n",
    "\n",
    "    if graded:\n",
    "        submission[\"grade\"] = {\n",
    "            \"score\": random.randint(0, 100),\n",
    "            \"feedback\": \"Good job!\",\n",
    "            \"gradedAt\": datetime.now(),\n",
    "            \"gradedBy\": random.choice(instructors)[\"userId\"]\n",
    "        }\n",
    "\n",
    "    submissions.append(submission)\n",
    "\n",
    "db.submissions.insert_many(submissions)\n"
   ]
  },
  {
   "cell_type": "code",
   "execution_count": 39,
   "id": "b7836fbc-0da9-4176-b80a-f87ab3ee731d",
   "metadata": {},
   "outputs": [
    {
     "name": "stdout",
     "output_type": "stream",
     "text": [
      "Created new collection with validator: user\n",
      "Updated validator for existing collection: courses\n",
      "Updated validator for existing collection: enrollments\n",
      "Updated validator for existing collection: lessons\n",
      "Updated validator for existing collection: assignments\n",
      "Updated validator for existing collection: submissions\n",
      "All collections created or updated successfully.\n"
     ]
    }
   ],
   "source": [
    "# 3. Create collections with validation rules\n",
    "def create_or_update_collection(name, validator):\n",
    "    if name in db.list_collection_names():\n",
    "        # Collection exists: update validator\n",
    "        db.command({\n",
    "            \"collMod\": name,\n",
    "            \"validator\": validator,\n",
    "            \"validationLevel\": \"moderate\"  # or \"strict\" if you prefer\n",
    "        })\n",
    "        print(f\"Updated validator for existing collection: {name}\")\n",
    "    else:\n",
    "        # Create new collection with validator\n",
    "        db.create_collection(name, validator=validator)\n",
    "        print(f\"Created new collection with validator: {name}\")\n",
    "\n",
    "\n",
    "# Apply to all your collections\n",
    "create_or_update_collection(\"user\", user_validator)\n",
    "create_or_update_collection(\"courses\", course_validator)\n",
    "create_or_update_collection(\"enrollments\", enrollment_validator)\n",
    "create_or_update_collection(\"lessons\", lesson_validator)\n",
    "create_or_update_collection(\"assignments\", assignment_validator)\n",
    "create_or_update_collection(\"submissions\", submission_validator)\n",
    "\n",
    "print(\"All collections created or updated successfully.\")\n"
   ]
  },
  {
   "cell_type": "code",
   "execution_count": 42,
   "id": "9f85f074-7200-4f02-8086-b1f3916d8b35",
   "metadata": {},
   "outputs": [
    {
     "name": "stdout",
     "output_type": "stream",
     "text": [
      "Collections in 'eduhub_db':\n",
      " - users\n",
      " - courses\n",
      " - user\n",
      " - assignments\n",
      " - submissions\n",
      " - enrollments\n",
      " - lessons\n"
     ]
    }
   ],
   "source": [
    "collections = db.list_collection_names()\n",
    "\n",
    "print(\"Collections in 'eduhub_db':\")\n",
    "for col in collections:\n",
    "    print(f\" - {col}\")"
   ]
  },
  {
   "cell_type": "code",
   "execution_count": 46,
   "id": "f6963042-c352-4bf5-b091-c510f9b2287a",
   "metadata": {},
   "outputs": [
    {
     "name": "stdout",
     "output_type": "stream",
     "text": [
      "Dropped 'user' collection.\n",
      "Dropped 'users' collection.\n"
     ]
    }
   ],
   "source": [
    "# Delete 'user' collection if it exists\n",
    "if \"user\" in db.list_collection_names():\n",
    "    db.user.drop()\n",
    "    print(\"Dropped 'user' collection.\")\n",
    "\n",
    "# Delete 'users' collection if it exists\n",
    "if \"users\" in db.list_collection_names():\n",
    "    db.users.drop()\n",
    "    print(\"Dropped 'users' collection.\")\n"
   ]
  },
  {
   "cell_type": "code",
   "execution_count": 51,
   "id": "efda2d19-d95a-4ed6-ac4e-dd0e3832a9a3",
   "metadata": {},
   "outputs": [
    {
     "name": "stdout",
     "output_type": "stream",
     "text": [
      "Collections in 'eduhub_db':\n",
      " - courses\n",
      " - assignments\n",
      " - submissions\n",
      " - users\n",
      " - enrollments\n",
      " - lessons\n"
     ]
    }
   ],
   "source": [
    "collections = db.list_collection_names()\n",
    "\n",
    "print(\"Collections in 'eduhub_db':\")\n",
    "for col in collections:\n",
    "    print(f\" - {col}\")"
   ]
  },
  {
   "cell_type": "code",
   "execution_count": 55,
   "id": "4ce5f35e-bd83-4044-8274-8895aefe4959",
   "metadata": {},
   "outputs": [
    {
     "name": "stdout",
     "output_type": "stream",
     "text": [
      "Documents in 'users' collection:\n",
      "{'_id': ObjectId('684fcbd81e9483271544a641'),\n",
      " 'dateJoined': datetime.datetime(2025, 6, 16, 1, 46, 32, 410000),\n",
      " 'email': 'user0@eduhub.com',\n",
      " 'firstName': 'First0',\n",
      " 'isActive': True,\n",
      " 'lastName': 'Last0',\n",
      " 'profile': {'avatar': 'https://avatar.com/u0.png',\n",
      "             'bio': \"This is user 0's bio.\",\n",
      "             'skills': ['Python', 'Data', 'Web']},\n",
      " 'role': 'instructor',\n",
      " 'userId': '363b3454-b7e4-430b-813b-bd84fe263cb8'}\n",
      "{'_id': ObjectId('684fcbd81e9483271544a642'),\n",
      " 'dateJoined': datetime.datetime(2025, 6, 16, 1, 46, 32, 410000),\n",
      " 'email': 'user1@eduhub.com',\n",
      " 'firstName': 'First1',\n",
      " 'isActive': True,\n",
      " 'lastName': 'Last1',\n",
      " 'profile': {'avatar': 'https://avatar.com/u1.png',\n",
      "             'bio': \"This is user 1's bio.\",\n",
      "             'skills': ['Python']},\n",
      " 'role': 'student',\n",
      " 'userId': 'bc6dd3a0-86bf-44d1-8940-2b5ca5caefd4'}\n",
      "{'_id': ObjectId('684fcbd81e9483271544a643'),\n",
      " 'dateJoined': datetime.datetime(2025, 6, 16, 1, 46, 32, 410000),\n",
      " 'email': 'user2@eduhub.com',\n",
      " 'firstName': 'First2',\n",
      " 'isActive': True,\n",
      " 'lastName': 'Last2',\n",
      " 'profile': {'avatar': 'https://avatar.com/u2.png',\n",
      "             'bio': \"This is user 2's bio.\",\n",
      "             'skills': ['Python', 'Data', 'Web']},\n",
      " 'role': 'instructor',\n",
      " 'userId': '2d96a2d3-adbe-4a79-90ed-3d7374a344a1'}\n",
      "{'_id': ObjectId('684fcbd81e9483271544a644'),\n",
      " 'dateJoined': datetime.datetime(2025, 6, 16, 1, 46, 32, 410000),\n",
      " 'email': 'user3@eduhub.com',\n",
      " 'firstName': 'First3',\n",
      " 'isActive': True,\n",
      " 'lastName': 'Last3',\n",
      " 'profile': {'avatar': 'https://avatar.com/u3.png',\n",
      "             'bio': \"This is user 3's bio.\",\n",
      "             'skills': ['Python']},\n",
      " 'role': 'student',\n",
      " 'userId': 'a4a71120-aba3-42a0-ac0d-8945cb7afc80'}\n",
      "{'_id': ObjectId('684fcbd81e9483271544a645'),\n",
      " 'dateJoined': datetime.datetime(2025, 6, 16, 1, 46, 32, 410000),\n",
      " 'email': 'user4@eduhub.com',\n",
      " 'firstName': 'First4',\n",
      " 'isActive': True,\n",
      " 'lastName': 'Last4',\n",
      " 'profile': {'avatar': 'https://avatar.com/u4.png',\n",
      "             'bio': \"This is user 4's bio.\",\n",
      "             'skills': ['Python', 'Data', 'Web']},\n",
      " 'role': 'student',\n",
      " 'userId': 'e7d117db-882d-4e62-852a-dd340599c765'}\n",
      "{'_id': ObjectId('684fcbd81e9483271544a646'),\n",
      " 'dateJoined': datetime.datetime(2025, 6, 16, 1, 46, 32, 410000),\n",
      " 'email': 'user5@eduhub.com',\n",
      " 'firstName': 'First5',\n",
      " 'isActive': True,\n",
      " 'lastName': 'Last5',\n",
      " 'profile': {'avatar': 'https://avatar.com/u5.png',\n",
      "             'bio': \"This is user 5's bio.\",\n",
      "             'skills': ['Python', 'Data']},\n",
      " 'role': 'instructor',\n",
      " 'userId': '7947987a-80e0-4534-9d66-5ddb22afae73'}\n",
      "{'_id': ObjectId('684fcbd81e9483271544a647'),\n",
      " 'dateJoined': datetime.datetime(2025, 6, 16, 1, 46, 32, 410000),\n",
      " 'email': 'user6@eduhub.com',\n",
      " 'firstName': 'First6',\n",
      " 'isActive': True,\n",
      " 'lastName': 'Last6',\n",
      " 'profile': {'avatar': 'https://avatar.com/u6.png',\n",
      "             'bio': \"This is user 6's bio.\",\n",
      "             'skills': ['Python']},\n",
      " 'role': 'student',\n",
      " 'userId': '40e849aa-21d8-4174-8a9a-8f878982377f'}\n",
      "{'_id': ObjectId('684fcbd81e9483271544a648'),\n",
      " 'dateJoined': datetime.datetime(2025, 6, 16, 1, 46, 32, 410000),\n",
      " 'email': 'user7@eduhub.com',\n",
      " 'firstName': 'First7',\n",
      " 'isActive': True,\n",
      " 'lastName': 'Last7',\n",
      " 'profile': {'avatar': 'https://avatar.com/u7.png',\n",
      "             'bio': \"This is user 7's bio.\",\n",
      "             'skills': ['Python', 'Data', 'Web']},\n",
      " 'role': 'instructor',\n",
      " 'userId': '987c308b-eefb-49e3-abc1-738f0c1662e9'}\n",
      "{'_id': ObjectId('684fcbd81e9483271544a649'),\n",
      " 'dateJoined': datetime.datetime(2025, 6, 16, 1, 46, 32, 410000),\n",
      " 'email': 'user8@eduhub.com',\n",
      " 'firstName': 'First8',\n",
      " 'isActive': True,\n",
      " 'lastName': 'Last8',\n",
      " 'profile': {'avatar': 'https://avatar.com/u8.png',\n",
      "             'bio': \"This is user 8's bio.\",\n",
      "             'skills': ['Python']},\n",
      " 'role': 'instructor',\n",
      " 'userId': '45c5f4ca-844a-4a84-85ed-dd629e67a36c'}\n",
      "{'_id': ObjectId('684fcbd81e9483271544a64a'),\n",
      " 'dateJoined': datetime.datetime(2025, 6, 16, 1, 46, 32, 410000),\n",
      " 'email': 'user9@eduhub.com',\n",
      " 'firstName': 'First9',\n",
      " 'isActive': True,\n",
      " 'lastName': 'Last9',\n",
      " 'profile': {'avatar': 'https://avatar.com/u9.png',\n",
      "             'bio': \"This is user 9's bio.\",\n",
      "             'skills': ['Python']},\n",
      " 'role': 'instructor',\n",
      " 'userId': '087ec44b-44d3-4b13-98d7-081f70721e75'}\n",
      "{'_id': ObjectId('684fcbd81e9483271544a64b'),\n",
      " 'dateJoined': datetime.datetime(2025, 6, 16, 1, 46, 32, 410000),\n",
      " 'email': 'user10@eduhub.com',\n",
      " 'firstName': 'First10',\n",
      " 'isActive': True,\n",
      " 'lastName': 'Last10',\n",
      " 'profile': {'avatar': 'https://avatar.com/u10.png',\n",
      "             'bio': \"This is user 10's bio.\",\n",
      "             'skills': ['Python', 'Data', 'Web']},\n",
      " 'role': 'student',\n",
      " 'userId': '0bd95c3e-a85c-4079-9de0-4adf45db6ec7'}\n",
      "{'_id': ObjectId('684fcbd81e9483271544a64c'),\n",
      " 'dateJoined': datetime.datetime(2025, 6, 16, 1, 46, 32, 410000),\n",
      " 'email': 'user11@eduhub.com',\n",
      " 'firstName': 'First11',\n",
      " 'isActive': True,\n",
      " 'lastName': 'Last11',\n",
      " 'profile': {'avatar': 'https://avatar.com/u11.png',\n",
      "             'bio': \"This is user 11's bio.\",\n",
      "             'skills': ['Python', 'Data']},\n",
      " 'role': 'student',\n",
      " 'userId': 'f4af0a06-53e3-405a-81cb-684e1eb77f0a'}\n",
      "{'_id': ObjectId('684fcbd81e9483271544a64d'),\n",
      " 'dateJoined': datetime.datetime(2025, 6, 16, 1, 46, 32, 410000),\n",
      " 'email': 'user12@eduhub.com',\n",
      " 'firstName': 'First12',\n",
      " 'isActive': True,\n",
      " 'lastName': 'Last12',\n",
      " 'profile': {'avatar': 'https://avatar.com/u12.png',\n",
      "             'bio': \"This is user 12's bio.\",\n",
      "             'skills': ['Python', 'Data']},\n",
      " 'role': 'student',\n",
      " 'userId': '4bb9aa90-523c-4930-808e-612a205bbcb7'}\n",
      "{'_id': ObjectId('684fcbd81e9483271544a64e'),\n",
      " 'dateJoined': datetime.datetime(2025, 6, 16, 1, 46, 32, 410000),\n",
      " 'email': 'user13@eduhub.com',\n",
      " 'firstName': 'First13',\n",
      " 'isActive': True,\n",
      " 'lastName': 'Last13',\n",
      " 'profile': {'avatar': 'https://avatar.com/u13.png',\n",
      "             'bio': \"This is user 13's bio.\",\n",
      "             'skills': ['Python', 'Data', 'Web']},\n",
      " 'role': 'instructor',\n",
      " 'userId': 'bb1e71ae-dd01-40e5-aa6f-f5792512617b'}\n",
      "{'_id': ObjectId('684fcbd81e9483271544a64f'),\n",
      " 'dateJoined': datetime.datetime(2025, 6, 16, 1, 46, 32, 410000),\n",
      " 'email': 'user14@eduhub.com',\n",
      " 'firstName': 'First14',\n",
      " 'isActive': True,\n",
      " 'lastName': 'Last14',\n",
      " 'profile': {'avatar': 'https://avatar.com/u14.png',\n",
      "             'bio': \"This is user 14's bio.\",\n",
      "             'skills': ['Python']},\n",
      " 'role': 'student',\n",
      " 'userId': '3ec52f73-3704-4c00-94ec-10c2287a0e2d'}\n",
      "{'_id': ObjectId('684fcbd81e9483271544a650'),\n",
      " 'dateJoined': datetime.datetime(2025, 6, 16, 1, 46, 32, 410000),\n",
      " 'email': 'user15@eduhub.com',\n",
      " 'firstName': 'First15',\n",
      " 'isActive': True,\n",
      " 'lastName': 'Last15',\n",
      " 'profile': {'avatar': 'https://avatar.com/u15.png',\n",
      "             'bio': \"This is user 15's bio.\",\n",
      "             'skills': ['Python', 'Data', 'Web']},\n",
      " 'role': 'instructor',\n",
      " 'userId': '6b1f4e01-af6e-4d42-80f6-45be62d5b3fb'}\n",
      "{'_id': ObjectId('684fcbd81e9483271544a651'),\n",
      " 'dateJoined': datetime.datetime(2025, 6, 16, 1, 46, 32, 410000),\n",
      " 'email': 'user16@eduhub.com',\n",
      " 'firstName': 'First16',\n",
      " 'isActive': True,\n",
      " 'lastName': 'Last16',\n",
      " 'profile': {'avatar': 'https://avatar.com/u16.png',\n",
      "             'bio': \"This is user 16's bio.\",\n",
      "             'skills': ['Python', 'Data', 'Web']},\n",
      " 'role': 'student',\n",
      " 'userId': '4e610178-7d65-4958-8e5e-fb3dcf542fcb'}\n",
      "{'_id': ObjectId('684fcbd81e9483271544a652'),\n",
      " 'dateJoined': datetime.datetime(2025, 6, 16, 1, 46, 32, 410000),\n",
      " 'email': 'user17@eduhub.com',\n",
      " 'firstName': 'First17',\n",
      " 'isActive': True,\n",
      " 'lastName': 'Last17',\n",
      " 'profile': {'avatar': 'https://avatar.com/u17.png',\n",
      "             'bio': \"This is user 17's bio.\",\n",
      "             'skills': ['Python', 'Data', 'Web']},\n",
      " 'role': 'student',\n",
      " 'userId': '097a1659-9b60-4f2a-922a-dfe0fc6f70a0'}\n",
      "{'_id': ObjectId('684fcbd81e9483271544a653'),\n",
      " 'dateJoined': datetime.datetime(2025, 6, 16, 1, 46, 32, 410000),\n",
      " 'email': 'user18@eduhub.com',\n",
      " 'firstName': 'First18',\n",
      " 'isActive': True,\n",
      " 'lastName': 'Last18',\n",
      " 'profile': {'avatar': 'https://avatar.com/u18.png',\n",
      "             'bio': \"This is user 18's bio.\",\n",
      "             'skills': ['Python']},\n",
      " 'role': 'student',\n",
      " 'userId': '2147e3e1-112f-4510-a013-f36e7ae1ea34'}\n",
      "{'_id': ObjectId('684fcbd81e9483271544a654'),\n",
      " 'dateJoined': datetime.datetime(2025, 6, 16, 1, 46, 32, 410000),\n",
      " 'email': 'user19@eduhub.com',\n",
      " 'firstName': 'First19',\n",
      " 'isActive': True,\n",
      " 'lastName': 'Last19',\n",
      " 'profile': {'avatar': 'https://avatar.com/u19.png',\n",
      "             'bio': \"This is user 19's bio.\",\n",
      "             'skills': ['Python']},\n",
      " 'role': 'instructor',\n",
      " 'userId': '94b94a2d-9b42-46ad-a298-3cf11c1b237f'}\n"
     ]
    }
   ],
   "source": [
    "from pprint import pprint\n",
    "\n",
    "# Retrieve all documents from the 'users' collection\n",
    "users = db.users.find()\n",
    "\n",
    "# Print each user document\n",
    "print(\"Documents in 'users' collection:\")\n",
    "for user in users:\n",
    "    pprint(user)"
   ]
  },
  {
   "cell_type": "code",
   "execution_count": 56,
   "id": "1479151d-e779-4640-a135-83bf13e62a7c",
   "metadata": {},
   "outputs": [
    {
     "name": "stdout",
     "output_type": "stream",
     "text": [
      "✅ New student user added.\n"
     ]
    }
   ],
   "source": [
    "#Basic CRUD Operations, task3.1\n",
    "# 1. Add a new student user (append to existing users)\n",
    "new_student = {\n",
    "    \"userId\": str(uuid.uuid4()),\n",
    "    \"firstName\": \"Ada\",\n",
    "    \"lastName\": \"Okoro\",\n",
    "    \"email\": \"ada.okoro@example.com\",\n",
    "    \"role\": \"student\",\n",
    "    \"dateJoined\": datetime.now(),\n",
    "    \"profile\": {\n",
    "        \"bio\": \"A passionate learner\",\n",
    "        \"avatar\": \"https://example.com/avatar.png\",\n",
    "        \"skills\": [\"Python\", \"MongoDB\"]\n",
    "    },\n",
    "    \"isActive\": True\n",
    "}\n",
    "db.users.insert_one(new_student)\n",
    "print(\"✅ New student user added.\")"
   ]
  },
  {
   "cell_type": "code",
   "execution_count": 57,
   "id": "e0c0ce19-7933-455a-818f-34c9426247b8",
   "metadata": {},
   "outputs": [
    {
     "name": "stdout",
     "output_type": "stream",
     "text": [
      "✅ New course added.\n"
     ]
    }
   ],
   "source": [
    "# 2. Create a new course (append to existing courses)\n",
    "# Ensure there’s at least one instructor to assign\n",
    "instructor = db.users.find_one({\"role\": \"instructor\"})\n",
    "if not instructor:\n",
    "    raise Exception(\"No instructor found. Add one first.\")\n",
    "\n",
    "new_course = {\n",
    "    \"courseId\": str(uuid.uuid4()),\n",
    "    \"title\": \"Data Visualization with Python\",\n",
    "    \"description\": \"Learn how to visualize data using matplotlib and seaborn.\",\n",
    "    \"instructorId\": instructor[\"userId\"],\n",
    "    \"category\": \"Data Science\",\n",
    "    \"level\": \"intermediate\",\n",
    "    \"duration\": 5.5,\n",
    "    \"price\": 89.99,\n",
    "    \"tags\": [\"data\", \"visualization\", \"python\"],\n",
    "    \"createdAt\": datetime.now(),\n",
    "    \"updatedAt\": datetime.now(),\n",
    "    \"isPublished\": True\n",
    "}\n",
    "db.courses.insert_one(new_course)\n",
    "print(\"✅ New course added.\")"
   ]
  },
  {
   "cell_type": "code",
   "execution_count": 58,
   "id": "458ddd44-4210-4768-886b-b698b2f4df51",
   "metadata": {},
   "outputs": [
    {
     "name": "stdout",
     "output_type": "stream",
     "text": [
      "✅ Student enrolled in course.\n"
     ]
    }
   ],
   "source": [
    "# 3. Enroll the new student in the new course (append to enrollments)\n",
    "new_enrollment = {\n",
    "    \"enrollmentId\": str(uuid.uuid4()),\n",
    "    \"studentId\": new_student[\"userId\"],\n",
    "    \"courseId\": new_course[\"courseId\"],\n",
    "    \"enrolledAt\": datetime.now(),\n",
    "    \"progress\": 0,\n",
    "    \"status\": \"enrolled\"\n",
    "}\n",
    "db.enrollments.insert_one(new_enrollment)\n",
    "print(\"✅ Student enrolled in course.\")"
   ]
  },
  {
   "cell_type": "code",
   "execution_count": 59,
   "id": "1c6fe0ce-1e09-40dd-94fe-519bf5aa1b49",
   "metadata": {},
   "outputs": [
    {
     "name": "stdout",
     "output_type": "stream",
     "text": [
      "✅ New lesson added to course.\n"
     ]
    }
   ],
   "source": [
    "# 4. Add a new lesson to the existing course (append to lessons)\n",
    "new_lesson = {\n",
    "    \"lessonId\": str(uuid.uuid4()),\n",
    "    \"courseId\": new_course[\"courseId\"],\n",
    "    \"title\": \"Lesson 1: Introduction to Data Visualization\",\n",
    "    \"content\": \"<p>This lesson covers the basics of data visualization using Python libraries.</p>\",\n",
    "    \"videoUrl\": \"https://videos.example.com/lesson1\",\n",
    "    \"position\": 1,\n",
    "    \"createdAt\": datetime.now(),\n",
    "    \"updatedAt\": datetime.now()\n",
    "}\n",
    "db.lessons.insert_one(new_lesson)\n",
    "print(\"✅ New lesson added to course.\")"
   ]
  },
  {
   "cell_type": "code",
   "execution_count": 61,
   "id": "1f63ddf3-da2c-4df0-b0bd-2da2426c8b83",
   "metadata": {},
   "outputs": [],
   "source": [
    "import re"
   ]
  },
  {
   "cell_type": "code",
   "execution_count": 62,
   "id": "5cb6428a-6ad8-41cf-bbd0-633e9ac45017",
   "metadata": {},
   "outputs": [
    {
     "name": "stdout",
     "output_type": "stream",
     "text": [
      "✅ Active students:\n",
      "- First1 Last1\n",
      "- First3 Last3\n",
      "- First4 Last4\n",
      "- First6 Last6\n",
      "- First10 Last10\n",
      "- First11 Last11\n",
      "- First12 Last12\n",
      "- First14 Last14\n",
      "- First16 Last16\n",
      "- First17 Last17\n",
      "- First18 Last18\n",
      "- Ada Okoro\n",
      "\n",
      "✅ Courses with instructor details:\n",
      "- Data Visualization with Python by First0 Last0\n",
      "\n",
      "✅ Courses in category 'Data Science':\n",
      "- Course 3\n",
      "- Course 5\n",
      "- Data Visualization with Python\n",
      "\n",
      "✅ Students enrolled in course 'Data Visualization with Python':\n",
      "- Ada Okoro\n",
      "\n",
      "✅ Courses matching 'python' in title:\n",
      "- Data Visualization with Python\n"
     ]
    }
   ],
   "source": [
    "#Task 3.2 Read Operations\n",
    "# 1. Find all active students\n",
    "active_students = list(db.users.find({\n",
    "    \"role\": \"student\",\n",
    "    \"isActive\": True\n",
    "}))\n",
    "print(\"✅ Active students:\")\n",
    "for student in active_students:\n",
    "    print(f\"- {student['firstName']} {student['lastName']}\")\n",
    "\n",
    "# 2. Retrieve course details with instructor information (using aggregation)\n",
    "courses_with_instructors = list(db.courses.aggregate([\n",
    "    {\n",
    "        \"$lookup\": {\n",
    "            \"from\": \"users\",\n",
    "            \"localField\": \"instructorId\",\n",
    "            \"foreignField\": \"userId\",\n",
    "            \"as\": \"instructor\"\n",
    "        }\n",
    "    },\n",
    "    {\"$unwind\": \"$instructor\"}\n",
    "]))\n",
    "print(\"\\n✅ Courses with instructor details:\")\n",
    "for course in courses_with_instructors:\n",
    "    print(f\"- {course['title']} by {course['instructor']['firstName']} {course['instructor']['lastName']}\")\n",
    "\n",
    "# 3. Get all courses in a specific category (e.g., \"Data Science\")\n",
    "category = \"Data Science\"\n",
    "data_science_courses = list(db.courses.find({\n",
    "    \"category\": category\n",
    "}))\n",
    "print(f\"\\n✅ Courses in category '{category}':\")\n",
    "for course in data_science_courses:\n",
    "    print(f\"- {course['title']}\")\n",
    "\n",
    "# 4. Find students enrolled in a particular course\n",
    "# Example: using a specific courseId\n",
    "course_id = courses_with_instructors[0][\"courseId\"]  # just taking the first course\n",
    "enrollments = list(db.enrollments.find({\n",
    "    \"courseId\": course_id\n",
    "}))\n",
    "\n",
    "student_ids = [e[\"studentId\"] for e in enrollments]\n",
    "students_in_course = list(db.users.find({\n",
    "    \"userId\": {\"$in\": student_ids}\n",
    "}))\n",
    "\n",
    "print(f\"\\n✅ Students enrolled in course '{courses_with_instructors[0]['title']}':\")\n",
    "for student in students_in_course:\n",
    "    print(f\"- {student['firstName']} {student['lastName']}\")\n",
    "\n",
    "# 5. Search courses by title (case-insensitive, partial match)\n",
    "search_term = \"python\"\n",
    "matched_courses = list(db.courses.find({\n",
    "    \"title\": {\"$regex\": re.compile(search_term, re.IGNORECASE)}\n",
    "}))\n",
    "print(f\"\\n✅ Courses matching '{search_term}' in title:\")\n",
    "for course in matched_courses:\n",
    "    print(f\"- {course['title']}\")"
   ]
  },
  {
   "cell_type": "code",
   "execution_count": 63,
   "id": "5540bfe9-ec9d-47d0-a229-f1f870d263b1",
   "metadata": {},
   "outputs": [
    {
     "data": {
      "text/plain": [
       "UpdateResult({'n': 1, 'nModified': 1, 'ok': 1.0, 'updatedExisting': True}, acknowledged=True)"
      ]
     },
     "execution_count": 63,
     "metadata": {},
     "output_type": "execute_result"
    }
   ],
   "source": [
    "#Task 3.3 Update Operations\n",
    "db.users.update_one(\n",
    "    {\"email\": \"user1@eduhub.com\"},\n",
    "    {\n",
    "        \"$set\": {\n",
    "            \"profile.bio\": \"Updated bio for user1.\",\n",
    "            \"profile.avatar\": \"https://new-avatar.com/u1.png\"\n",
    "        }\n",
    "    }\n",
    ")\n",
    "\n",
    "\n",
    "#Mark a course as published\n",
    "db.courses.update_one(\n",
    "    {\"title\": \"Course 3\"},\n",
    "    {\"$set\": {\"isPublished\": True}}\n",
    ")\n",
    "\n",
    "\n",
    "#Add tags to an existing course\n",
    "\n",
    "db.courses.update_one(\n",
    "    {\"title\": \"Course 5\"},\n",
    "    {\n",
    "        \"$addToSet\": {\n",
    "            \"tags\": {\"$each\": [\"project\", \"practical\"]}\n",
    "        }\n",
    "    }\n",
    ")\n"
   ]
  },
  {
   "cell_type": "code",
   "execution_count": 64,
   "id": "47ee775d-82de-4981-a85c-e689343b7a9f",
   "metadata": {},
   "outputs": [
    {
     "data": {
      "text/plain": [
       "DeleteResult({'n': 0, 'ok': 1.0}, acknowledged=True)"
      ]
     },
     "execution_count": 64,
     "metadata": {},
     "output_type": "execute_result"
    }
   ],
   "source": [
    "#Task3.4 Delete operation\n",
    "#1 Remove a user\n",
    "db.users.update_one(\n",
    "    {\"email\": \"student1@eduhub.com\"},\n",
    "    {\"$set\": {\"isActive\": False}}\n",
    ")\n",
    "\n",
    "#2 Delete enrollment\n",
    "db.enrollments.delete_one(\n",
    "    {\"enrollmentId\": \"your-enrollment-id-here\"}\n",
    ")\n",
    "#3 Remove lesson from course\n",
    "db.lessons.delete_one(\n",
    "    {\"lessonId\": \"your-lesson-id-here\"}\n",
    ")"
   ]
  },
  {
   "cell_type": "code",
   "execution_count": 65,
   "id": "08641a13-9968-400a-8a36-2ee08c7536a7",
   "metadata": {},
   "outputs": [
    {
     "name": "stdout",
     "output_type": "stream",
     "text": [
      "Courses priced between $50 and $200:\n",
      "Course 0 - 121.34\n",
      "Course 1 - 187.85\n",
      "Course 2 - 91.72\n",
      "Course 4 - 92.18\n",
      "Course 5 - 129.14\n",
      "Course 6 - 69.23\n",
      "Course 7 - 92.14\n",
      "Data Visualization with Python - 89.99\n"
     ]
    }
   ],
   "source": [
    "#Task 4.1.1; complex queries\n",
    "courses_in_range = list(db.courses.find({\n",
    "    \"price\": {\"$gte\": 50, \"$lte\": 200}\n",
    "}))\n",
    "\n",
    "print(\"Courses priced between $50 and $200:\")\n",
    "for course in courses_in_range:\n",
    "    print(course[\"title\"], \"-\", course[\"price\"])\n"
   ]
  },
  {
   "cell_type": "code",
   "execution_count": 66,
   "id": "7c8c686a-c974-469f-a6d0-6b34ef333d68",
   "metadata": {},
   "outputs": [
    {
     "name": "stdout",
     "output_type": "stream",
     "text": [
      "\n",
      "Users who joined in the last 6 months:\n",
      "First0 Last0 - 2025-06-16 01:46:32.410000\n",
      "First1 Last1 - 2025-06-16 01:46:32.410000\n",
      "First2 Last2 - 2025-06-16 01:46:32.410000\n",
      "First3 Last3 - 2025-06-16 01:46:32.410000\n",
      "First4 Last4 - 2025-06-16 01:46:32.410000\n",
      "First5 Last5 - 2025-06-16 01:46:32.410000\n",
      "First6 Last6 - 2025-06-16 01:46:32.410000\n",
      "First7 Last7 - 2025-06-16 01:46:32.410000\n",
      "First8 Last8 - 2025-06-16 01:46:32.410000\n",
      "First9 Last9 - 2025-06-16 01:46:32.410000\n",
      "First10 Last10 - 2025-06-16 01:46:32.410000\n",
      "First11 Last11 - 2025-06-16 01:46:32.410000\n",
      "First12 Last12 - 2025-06-16 01:46:32.410000\n",
      "First13 Last13 - 2025-06-16 01:46:32.410000\n",
      "First14 Last14 - 2025-06-16 01:46:32.410000\n",
      "First15 Last15 - 2025-06-16 01:46:32.410000\n",
      "First16 Last16 - 2025-06-16 01:46:32.410000\n",
      "First17 Last17 - 2025-06-16 01:46:32.410000\n",
      "First18 Last18 - 2025-06-16 01:46:32.410000\n",
      "First19 Last19 - 2025-06-16 01:46:32.410000\n",
      "Ada Okoro - 2025-06-16 02:07:03.657000\n"
     ]
    }
   ],
   "source": [
    "#Task 4.1.2 users who joined in the last 6months\n",
    "\n",
    "from datetime import datetime, timedelta\n",
    "\n",
    "six_months_ago = datetime.now() - timedelta(days=6*30)  # approximate 6 months\n",
    "recent_users = list(db.users.find({\n",
    "    \"dateJoined\": {\"$gte\": six_months_ago}\n",
    "}))\n",
    "\n",
    "print(\"\\nUsers who joined in the last 6 months:\")\n",
    "for user in recent_users:\n",
    "    print(user[\"firstName\"], user[\"lastName\"], \"-\", user[\"dateJoined\"])\n"
   ]
  },
  {
   "cell_type": "code",
   "execution_count": 67,
   "id": "6f632c57-803f-4d4e-9ed2-6ca1981e88aa",
   "metadata": {},
   "outputs": [
    {
     "name": "stdout",
     "output_type": "stream",
     "text": [
      "\n",
      "Courses with specified tags:\n",
      "Course 0 - ['tech']\n",
      "Course 1 - ['tech', 'edu']\n",
      "Course 2 - ['tech']\n",
      "Course 3 - ['tech', 'edu']\n",
      "Course 4 - ['tech']\n",
      "Course 5 - ['tech', 'edu', 'project', 'practical']\n",
      "Course 6 - ['tech', 'edu', 'skill']\n",
      "Course 7 - ['tech']\n",
      "Data Visualization with Python - ['data', 'visualization', 'python']\n"
     ]
    }
   ],
   "source": [
    "#Task 4.1.3 Find courses that have specific tags using $in operator\n",
    "tags_to_find = [\"tech\", \"python\", \"cloud\"]\n",
    "\n",
    "courses_with_tags = list(db.courses.find({\n",
    "    \"tags\": {\"$in\": tags_to_find}\n",
    "}))\n",
    "\n",
    "print(\"\\nCourses with specified tags:\")\n",
    "for course in courses_with_tags:\n",
    "    print(course[\"title\"], \"-\", course[\"tags\"])\n"
   ]
  },
  {
   "cell_type": "code",
   "execution_count": 68,
   "id": "96387ac8-70d4-4b85-83f5-d14dc591a3c2",
   "metadata": {},
   "outputs": [
    {
     "name": "stdout",
     "output_type": "stream",
     "text": [
      "\n",
      "Assignments due in the next 7 days:\n"
     ]
    }
   ],
   "source": [
    "#Task 4.1.4 Retrieve assignment with due dates in the next week\n",
    "today = datetime.now()\n",
    "next_week = today + timedelta(days=7)\n",
    "\n",
    "upcoming_assignments = list(db.assignments.find({\n",
    "    \"dueDate\": {\"$gte\": today, \"$lte\": next_week}\n",
    "}))\n",
    "\n",
    "print(\"\\nAssignments due in the next 7 days:\")\n",
    "for assignment in upcoming_assignments:\n",
    "    print(assignment[\"title\"], \"-\", assignment[\"dueDate\"])\n"
   ]
  },
  {
   "cell_type": "code",
   "execution_count": 69,
   "id": "d03e6bf3-2847-4eee-92f9-19bb2ed56857",
   "metadata": {},
   "outputs": [
    {
     "name": "stdout",
     "output_type": "stream",
     "text": [
      "Total enrollments per course:\n",
      "Course 4 → 3 enrollments\n",
      "Course 1 → 2 enrollments\n",
      "Course 5 → 1 enrollments\n",
      "Course 3 → 2 enrollments\n",
      "Course 7 → 4 enrollments\n",
      "Data Visualization with Python → 1 enrollments\n",
      "Course 2 → 1 enrollments\n",
      "Course 6 → 2 enrollments\n"
     ]
    }
   ],
   "source": [
    "#Task 4.2.1 Count total enrollment per course\n",
    "pipeline_enrollments_per_course = [\n",
    "    {\n",
    "        \"$group\": {\n",
    "            \"_id\": \"$courseId\",\n",
    "            \"totalEnrollments\": {\"$sum\": 1}\n",
    "        }\n",
    "    },\n",
    "    {\n",
    "        \"$lookup\": {\n",
    "            \"from\": \"courses\",\n",
    "            \"localField\": \"_id\",\n",
    "            \"foreignField\": \"courseId\",\n",
    "            \"as\": \"courseDetails\"\n",
    "        }\n",
    "    },\n",
    "    {\n",
    "        \"$unwind\": \"$courseDetails\"\n",
    "    },\n",
    "    {\n",
    "        \"$project\": {\n",
    "            \"courseTitle\": \"$courseDetails.title\",\n",
    "            \"totalEnrollments\": 1\n",
    "        }\n",
    "    }\n",
    "]\n",
    "\n",
    "results = db.enrollments.aggregate(pipeline_enrollments_per_course)\n",
    "\n",
    "print(\"Total enrollments per course:\")\n",
    "for doc in results:\n",
    "    print(f\"{doc['courseTitle']} → {doc['totalEnrollments']} enrollments\")\n"
   ]
  },
  {
   "cell_type": "code",
   "execution_count": 71,
   "id": "47dd295c-2fab-4690-93cb-c3ad46cf230f",
   "metadata": {},
   "outputs": [
    {
     "name": "stdout",
     "output_type": "stream",
     "text": [
      "\n",
      " Average rating per course:\n",
      "Course 0 → No ratings\n",
      "Course 1 → No ratings\n",
      "Course 2 → No ratings\n",
      "Course 3 → No ratings\n",
      "Course 4 → No ratings\n",
      "Course 5 → No ratings\n",
      "Course 6 → No ratings\n",
      "Course 7 → No ratings\n",
      "Data Visualization with Python → No ratings\n"
     ]
    }
   ],
   "source": [
    "#Task 4.2.1 Average course rating\n",
    "pipeline_avg_rating = [\n",
    "    {\n",
    "        \"$project\": {\n",
    "            \"title\": 1,\n",
    "            \"avgRating\": {\"$avg\": \"$ratings\"}\n",
    "        }\n",
    "    }\n",
    "]\n",
    "\n",
    "results = db.courses.aggregate(pipeline_avg_rating)\n",
    "\n",
    "print(\"\\n Average rating per course:\")\n",
    "for doc in results:\n",
    "    print(f\"{doc['title']} → {round(doc['avgRating'], 2) if doc['avgRating'] else 'No ratings'}\")\n"
   ]
  },
  {
   "cell_type": "code",
   "execution_count": 72,
   "id": "2c8b9446-ed48-431a-a031-25b20be90c9d",
   "metadata": {},
   "outputs": [
    {
     "name": "stdout",
     "output_type": "stream",
     "text": [
      "\n",
      " Total courses by category:\n",
      "Data Science → 3 courses\n",
      "Cloud → 3 courses\n",
      "Web Dev → 3 courses\n"
     ]
    }
   ],
   "source": [
    "#Task 4.2.1 Group by course category\n",
    "pipeline_group_by_category = [\n",
    "    {\n",
    "        \"$group\": {\n",
    "            \"_id\": \"$category\",\n",
    "            \"totalCourses\": {\"$sum\": 1}\n",
    "        }\n",
    "    },\n",
    "    {\n",
    "        \"$sort\": {\"totalCourses\": -1}\n",
    "    }\n",
    "]\n",
    "\n",
    "results = db.courses.aggregate(pipeline_group_by_category)\n",
    "\n",
    "print(\"\\n Total courses by category:\")\n",
    "for doc in results:\n",
    "    print(f\"{doc['_id']} → {doc['totalCourses']} courses\")\n"
   ]
  },
  {
   "cell_type": "code",
   "execution_count": 74,
   "id": "853793c8-df48-4495-b93e-eefd0459b222",
   "metadata": {},
   "outputs": [
    {
     "name": "stdout",
     "output_type": "stream",
     "text": [
      "\n",
      " Average grade per student:\n"
     ]
    }
   ],
   "source": [
    "#Task 4.2.2 Average grade per student\n",
    "pipeline_avg_grade_per_student = [\n",
    "    {\n",
    "        \"$match\": {\n",
    "            \"grade.score\": {\"$ne\": None}\n",
    "        }\n",
    "    },\n",
    "    {\n",
    "        \"$group\": {\n",
    "            \"_id\": \"$studentId\",\n",
    "            \"averageGrade\": {\"$avg\": \"$grade.score\"}\n",
    "        }\n",
    "    },\n",
    "    {\n",
    "        \"$lookup\": {\n",
    "            \"from\": \"users\",\n",
    "            \"localField\": \"_id\",\n",
    "            \"foreignField\": \"userId\",\n",
    "            \"as\": \"student\"\n",
    "        }\n",
    "    },\n",
    "    {\"$unwind\": \"$student\"},\n",
    "    {\n",
    "        \"$project\": {\n",
    "            \"studentName\": {\n",
    "                \"$concat\": [\"$student.firstName\", \" \", \"$student.lastName\"]\n",
    "            },\n",
    "            \"averageGrade\": 1\n",
    "        }\n",
    "    },\n",
    "    {\"$sort\": {\"averageGrade\": -1}}\n",
    "]\n",
    "\n",
    "results = db.submissions.aggregate(pipeline_avg_grade_per_student)\n",
    "\n",
    "print(\"\\n Average grade per student:\")\n",
    "for doc in results:\n",
    "    print(f\"{doc['studentName']} → {round(doc['averageGrade'], 2)}%\")\n",
    "\n"
   ]
  },
  {
   "cell_type": "code",
   "execution_count": 75,
   "id": "c085ad07-48e7-4250-a64f-b3af47d3cd74",
   "metadata": {},
   "outputs": [
    {
     "name": "stdout",
     "output_type": "stream",
     "text": [
      "\n",
      "Completion rate by course:\n",
      "Course 3 → 100.0%\n",
      "Course 2 → 100.0%\n",
      "Course 1 → 50.0%\n",
      "Course 7 → 50.0%\n",
      "Course 4 → 0.0%\n",
      "Course 5 → 0.0%\n",
      "Data Visualization with Python → 0.0%\n",
      "Course 6 → 0.0%\n"
     ]
    }
   ],
   "source": [
    "#Task 4.2.2 Completion rate by course\n",
    "pipeline_completion_rate = [\n",
    "    {\n",
    "        \"$group\": {\n",
    "            \"_id\": \"$courseId\",\n",
    "            \"total\": {\"$sum\": 1},\n",
    "            \"completed\": {\n",
    "                \"$sum\": {\n",
    "                    \"$cond\": [{\"$eq\": [\"$status\", \"completed\"]}, 1, 0]\n",
    "                }\n",
    "            }\n",
    "        }\n",
    "    },\n",
    "    {\n",
    "        \"$project\": {\n",
    "            \"completionRate\": {\n",
    "                \"$cond\": [\n",
    "                    {\"$eq\": [\"$total\", 0]},\n",
    "                    0,\n",
    "                    {\"$multiply\": [{\"$divide\": [\"$completed\", \"$total\"]}, 100]}\n",
    "                ]\n",
    "            }\n",
    "        }\n",
    "    },\n",
    "    {\n",
    "        \"$lookup\": {\n",
    "            \"from\": \"courses\",\n",
    "            \"localField\": \"_id\",\n",
    "            \"foreignField\": \"courseId\",\n",
    "            \"as\": \"course\"\n",
    "        }\n",
    "    },\n",
    "    {\"$unwind\": \"$course\"},\n",
    "    {\n",
    "        \"$project\": {\n",
    "            \"courseTitle\": \"$course.title\",\n",
    "            \"completionRate\": 1\n",
    "        }\n",
    "    },\n",
    "    {\"$sort\": {\"completionRate\": -1}}\n",
    "]\n",
    "\n",
    "results = db.enrollments.aggregate(pipeline_completion_rate)\n",
    "\n",
    "print(\"\\nCompletion rate by course:\")\n",
    "for doc in results:\n",
    "    print(f\"{doc['courseTitle']} → {round(doc['completionRate'], 2)}%\")\n"
   ]
  },
  {
   "cell_type": "code",
   "execution_count": 82,
   "id": "5f67f979-7e00-4a34-93a6-0d90cd6996cf",
   "metadata": {},
   "outputs": [
    {
     "name": "stdout",
     "output_type": "stream",
     "text": [
      "Sample graded submissions inserted.\n"
     ]
    }
   ],
   "source": [
    "#inserting extraa submissions\n",
    "from datetime import datetime\n",
    "import uuid\n",
    "import random\n",
    "\n",
    "instructors = list(db.users.find({\"role\": \"instructor\"}))\n",
    "students = list(db.users.find({\"role\": \"student\"}))\n",
    "assignments = list(db.assignments.find())\n",
    "\n",
    "submissions = []\n",
    "\n",
    "for i in range(12):\n",
    "    assignment = random.choice(assignments)\n",
    "    student = random.choice(students)\n",
    "\n",
    "    # Force all to be graded\n",
    "    submission = {\n",
    "        \"submissionId\": str(uuid.uuid4()),\n",
    "        \"assignmentId\": assignment[\"assignmentId\"],\n",
    "        \"studentId\": student[\"userId\"],\n",
    "        \"submittedAt\": datetime.now(),\n",
    "        \"content\": f\"https://submissions.com/s{i}\",\n",
    "        \"grade\": {\n",
    "            \"score\": random.randint(60, 100),\n",
    "            \"feedback\": \"Nice work!\",\n",
    "            \"gradedAt\": datetime.now(),\n",
    "            \"gradedBy\": random.choice(instructors)[\"userId\"]\n",
    "        },\n",
    "        \"status\": \"graded\"\n",
    "    }\n",
    "\n",
    "    submissions.append(submission)\n",
    "\n",
    "db.submissions.insert_many(submissions)\n",
    "print(\"Sample graded submissions inserted.\")\n"
   ]
  },
  {
   "cell_type": "code",
   "execution_count": 84,
   "id": "31a20734-bcb8-4f7b-8d80-ffa60ca920e2",
   "metadata": {},
   "outputs": [
    {
     "name": "stdout",
     "output_type": "stream",
     "text": [
      "\n",
      "Top 5 performing students:\n",
      "First10 Last10 → 88.0%\n",
      "First12 Last12 → 87.0%\n",
      "Ada Okoro → 83.67%\n",
      "First6 Last6 → 77.0%\n",
      "First18 Last18 → 75.67%\n"
     ]
    }
   ],
   "source": [
    "#Task 4.2.2 Top performing Students\n",
    "from bson.son import SON\n",
    "\n",
    "pipeline_top_students = [\n",
    "    { \"$match\": { \"grade.score\": { \"$ne\": None } } },\n",
    "    { \"$group\": {\n",
    "        \"_id\": \"$studentId\",\n",
    "        \"averageGrade\": { \"$avg\": \"$grade.score\" }\n",
    "    }},\n",
    "    { \"$lookup\": {\n",
    "        \"from\": \"users\",\n",
    "        \"localField\": \"_id\",\n",
    "        \"foreignField\": \"userId\",\n",
    "        \"as\": \"studentInfo\"\n",
    "    }},\n",
    "    { \"$unwind\": \"$studentInfo\" },\n",
    "    { \"$addFields\": {\n",
    "        \"studentName\": {\n",
    "            \"$concat\": [\"$studentInfo.firstName\", \" \", \"$studentInfo.lastName\"]\n",
    "        }\n",
    "    }},\n",
    "    { \"$sort\": SON([(\"averageGrade\", -1)]) },\n",
    "    { \"$limit\": 5 }\n",
    "]\n",
    "\n",
    "results = db.submissions.aggregate(pipeline_top_students)\n",
    "\n",
    "print(\"\\nTop 5 performing students:\")\n",
    "for doc in results:\n",
    "    print(f\"{doc['studentName']} → {round(doc['averageGrade'], 2)}%\")\n"
   ]
  },
  {
   "cell_type": "code",
   "execution_count": 85,
   "id": "d9412994-5a16-48f2-88dd-394124871c48",
   "metadata": {},
   "outputs": [
    {
     "name": "stdout",
     "output_type": "stream",
     "text": [
      "\n",
      "Total students per instructor:\n",
      "{'instructorId': '363b3454-b7e4-430b-813b-bd84fe263cb8', 'totalStudents': 1}\n",
      "{'instructorId': 'd15bd8da-6260-4594-8281-6f7e34c0b971', 'totalStudents': 4}\n",
      "{'instructorId': '8c2b1b18-94ed-455d-bd7f-3fe54c6b8393', 'totalStudents': 1}\n",
      "{'instructorId': '5003e27d-dd06-41d4-aa86-e783f5d2cb96', 'totalStudents': 5}\n",
      "{'instructorId': '25717c0a-40d8-4de1-9fce-85184d6928dc', 'totalStudents': 2}\n"
     ]
    }
   ],
   "source": [
    "#Task 4.2.3 Total student taught by each instructor\n",
    "pipeline_total_students_per_instructor = [\n",
    "    {\n",
    "        \"$lookup\": {\n",
    "            \"from\": \"courses\",\n",
    "            \"localField\": \"courseId\",\n",
    "            \"foreignField\": \"courseId\",\n",
    "            \"as\": \"course\"\n",
    "        }\n",
    "    },\n",
    "    {\"$unwind\": \"$course\"},\n",
    "    {\n",
    "        \"$group\": {\n",
    "            \"_id\": \"$course.instructorId\",\n",
    "            \"uniqueStudents\": {\"$addToSet\": \"$studentId\"}\n",
    "        }\n",
    "    },\n",
    "    {\n",
    "        \"$project\": {\n",
    "            \"_id\": 0,\n",
    "            \"instructorId\": \"$_id\",\n",
    "            \"totalStudents\": {\"$size\": \"$uniqueStudents\"}\n",
    "        }\n",
    "    }\n",
    "]\n",
    "\n",
    "results = db.enrollments.aggregate(pipeline_total_students_per_instructor)\n",
    "print(\"\\nTotal students per instructor:\")\n",
    "for doc in results:\n",
    "    print(doc)\n"
   ]
  },
  {
   "cell_type": "code",
   "execution_count": 86,
   "id": "e5dbc7c4-dab5-4537-804c-0f74c9e3e854",
   "metadata": {},
   "outputs": [
    {
     "name": "stdout",
     "output_type": "stream",
     "text": [
      "\n",
      "Average course rating per instructor:\n",
      "{'instructorId': '363b3454-b7e4-430b-813b-bd84fe263cb8', 'averageRating': None}\n",
      "{'instructorId': '5003e27d-dd06-41d4-aa86-e783f5d2cb96', 'averageRating': None}\n",
      "{'instructorId': '25717c0a-40d8-4de1-9fce-85184d6928dc', 'averageRating': None}\n",
      "{'instructorId': '8c2b1b18-94ed-455d-bd7f-3fe54c6b8393', 'averageRating': None}\n",
      "{'instructorId': 'd15bd8da-6260-4594-8281-6f7e34c0b971', 'averageRating': None}\n"
     ]
    }
   ],
   "source": [
    "#Task 4.2.3 Average course rating per instructor\n",
    "pipeline_avg_rating_per_instructor = [\n",
    "    {\n",
    "        \"$group\": {\n",
    "            \"_id\": \"$instructorId\",\n",
    "            \"averageRating\": {\"$avg\": \"$rating\"}\n",
    "        }\n",
    "    },\n",
    "    {\n",
    "        \"$project\": {\n",
    "            \"_id\": 0,\n",
    "            \"instructorId\": \"$_id\",\n",
    "            \"averageRating\": {\"$round\": [\"$averageRating\", 2]}\n",
    "        }\n",
    "    }\n",
    "]\n",
    "\n",
    "results = db.courses.aggregate(pipeline_avg_rating_per_instructor)\n",
    "print(\"\\nAverage course rating per instructor:\")\n",
    "for doc in results:\n",
    "    print(doc)\n"
   ]
  },
  {
   "cell_type": "code",
   "execution_count": 87,
   "id": "a95ec6e2-cbd2-469b-95e5-c9e6c1fc8e5b",
   "metadata": {},
   "outputs": [
    {
     "name": "stdout",
     "output_type": "stream",
     "text": [
      "\n",
      "Revenue per instructor:\n",
      "{'instructorId': 'd15bd8da-6260-4594-8281-6f7e34c0b971', 'totalRevenue': 368.56}\n",
      "{'instructorId': '363b3454-b7e4-430b-813b-bd84fe263cb8', 'totalRevenue': 89.99}\n",
      "{'instructorId': '5003e27d-dd06-41d4-aa86-e783f5d2cb96', 'totalRevenue': 728.4}\n",
      "{'instructorId': '25717c0a-40d8-4de1-9fce-85184d6928dc', 'totalRevenue': 230.18}\n",
      "{'instructorId': '8c2b1b18-94ed-455d-bd7f-3fe54c6b8393', 'totalRevenue': 129.14}\n"
     ]
    }
   ],
   "source": [
    "#Task 4.2.3 Revenue generated by instructor\n",
    "pipeline_revenue_per_instructor = [\n",
    "    {\n",
    "        \"$lookup\": {\n",
    "            \"from\": \"courses\",\n",
    "            \"localField\": \"courseId\",\n",
    "            \"foreignField\": \"courseId\",\n",
    "            \"as\": \"course\"\n",
    "        }\n",
    "    },\n",
    "    {\"$unwind\": \"$course\"},\n",
    "    {\n",
    "        \"$group\": {\n",
    "            \"_id\": \"$course.instructorId\",\n",
    "            \"totalRevenue\": {\"$sum\": \"$course.price\"}\n",
    "        }\n",
    "    },\n",
    "    {\n",
    "        \"$project\": {\n",
    "            \"_id\": 0,\n",
    "            \"instructorId\": \"$_id\",\n",
    "            \"totalRevenue\": {\"$round\": [\"$totalRevenue\", 2]}\n",
    "        }\n",
    "    }\n",
    "]\n",
    "\n",
    "results = db.enrollments.aggregate(pipeline_revenue_per_instructor)\n",
    "print(\"\\nRevenue per instructor:\")\n",
    "for doc in results:\n",
    "    print(doc)\n",
    "\n"
   ]
  },
  {
   "cell_type": "code",
   "execution_count": 88,
   "id": "d16c7443-ca9b-406f-88ab-6bcfa78e20eb",
   "metadata": {},
   "outputs": [
    {
     "name": "stdout",
     "output_type": "stream",
     "text": [
      "\n",
      "Monthly Enrollment Trends:\n",
      "{'enrollmentCount': 16, 'year': 2025, 'month': 6}\n"
     ]
    }
   ],
   "source": [
    "#task 4.2.4 Monthly enrollment trends\n",
    "pipeline_monthly_enrollments = [\n",
    "    {\n",
    "        \"$group\": {\n",
    "            \"_id\": {\n",
    "                \"year\": {\"$year\": \"$enrolledAt\"},\n",
    "                \"month\": {\"$month\": \"$enrolledAt\"}\n",
    "            },\n",
    "            \"enrollmentCount\": {\"$sum\": 1}\n",
    "        }\n",
    "    },\n",
    "    {\"$sort\": {\"_id.year\": 1, \"_id.month\": 1}},\n",
    "    {\n",
    "        \"$project\": {\n",
    "            \"_id\": 0,\n",
    "            \"year\": \"$_id.year\",\n",
    "            \"month\": \"$_id.month\",\n",
    "            \"enrollmentCount\": 1\n",
    "        }\n",
    "    }\n",
    "]\n",
    "\n",
    "results = db.enrollments.aggregate(pipeline_monthly_enrollments)\n",
    "print(\"\\nMonthly Enrollment Trends:\")\n",
    "for doc in results:\n",
    "    print(doc)\n"
   ]
  },
  {
   "cell_type": "code",
   "execution_count": 89,
   "id": "457d44bd-990d-4c25-8f78-c970d07a92d8",
   "metadata": {},
   "outputs": [
    {
     "name": "stdout",
     "output_type": "stream",
     "text": [
      "\n",
      "Most Popular Course Categories:\n",
      "{'totalEnrollments': 6, 'category': 'Web Dev'}\n",
      "{'totalEnrollments': 6, 'category': 'Cloud'}\n",
      "{'totalEnrollments': 4, 'category': 'Data Science'}\n"
     ]
    }
   ],
   "source": [
    "#Task 4.2.4 Most popular course categories\n",
    "pipeline_popular_categories = [\n",
    "    {\n",
    "        \"$lookup\": {\n",
    "            \"from\": \"courses\",\n",
    "            \"localField\": \"courseId\",\n",
    "            \"foreignField\": \"courseId\",\n",
    "            \"as\": \"course\"\n",
    "        }\n",
    "    },\n",
    "    {\"$unwind\": \"$course\"},\n",
    "    {\n",
    "        \"$group\": {\n",
    "            \"_id\": \"$course.category\",\n",
    "            \"totalEnrollments\": {\"$sum\": 1}\n",
    "        }\n",
    "    },\n",
    "    {\"$sort\": {\"totalEnrollments\": -1}},\n",
    "    {\n",
    "        \"$project\": {\n",
    "            \"_id\": 0,\n",
    "            \"category\": \"$_id\",\n",
    "            \"totalEnrollments\": 1\n",
    "        }\n",
    "    }\n",
    "]\n",
    "\n",
    "results = db.enrollments.aggregate(pipeline_popular_categories)\n",
    "print(\"\\nMost Popular Course Categories:\")\n",
    "for doc in results:\n",
    "    print(doc)\n"
   ]
  },
  {
   "cell_type": "code",
   "execution_count": 91,
   "id": "1c4dbfd0-2945-419b-9024-53226ed891f8",
   "metadata": {},
   "outputs": [
    {
     "name": "stdout",
     "output_type": "stream",
     "text": [
      "\n",
      "Student Engagement (Submissions per Student):\n",
      "{'submissions': 4, 'studentId': 'd3a329fe-12b8-4e19-917c-6ec05b1f148b'}\n",
      "{'submissions': 3, 'studentId': '1158dfed-6077-492d-b037-f066f28256fc'}\n",
      "{'submissions': 3, 'studentId': '2147e3e1-112f-4510-a013-f36e7ae1ea34'}\n",
      "{'submissions': 2, 'studentId': '445f7800-3286-4c4f-9b64-def7566e8364'}\n",
      "{'submissions': 2, 'studentId': '40e849aa-21d8-4174-8a9a-8f878982377f'}\n",
      "{'submissions': 2, 'studentId': '46d6939a-3e62-442e-a352-c1a156807c5f'}\n",
      "{'submissions': 2, 'studentId': '4bb9aa90-523c-4930-808e-612a205bbcb7'}\n",
      "{'submissions': 2, 'studentId': '0f29b289-49b8-4fee-b744-4b70bb8f19cd'}\n",
      "{'submissions': 1, 'studentId': '4d952d16-fbd1-4256-aef9-907de165da21'}\n",
      "{'submissions': 1, 'studentId': '1cb53613-d99c-4033-bafe-fbd0c10ab630'}\n",
      "{'submissions': 1, 'studentId': '0bd95c3e-a85c-4079-9de0-4adf45db6ec7'}\n",
      "{'submissions': 1, 'studentId': '097a1659-9b60-4f2a-922a-dfe0fc6f70a0'}\n",
      "\n",
      "Overall Course Completion Rate: 37.5%\n"
     ]
    }
   ],
   "source": [
    "#Task 4.2.4 Student engagement\n",
    "# Submissions per student\n",
    "pipeline_engagement = [\n",
    "    {\n",
    "        \"$group\": {\n",
    "            \"_id\": \"$studentId\",\n",
    "            \"submissions\": {\"$sum\": 1}\n",
    "        }\n",
    "    },\n",
    "    {\n",
    "        \"$project\": {\n",
    "            \"_id\": 0,\n",
    "            \"studentId\": \"$_id\",\n",
    "            \"submissions\": 1\n",
    "        }\n",
    "    },\n",
    "    {\"$sort\": {\"submissions\": -1}}\n",
    "]\n",
    "\n",
    "results = db.submissions.aggregate(pipeline_engagement)\n",
    "print(\"\\nStudent Engagement (Submissions per Student):\")\n",
    "for doc in results:\n",
    "    print(doc)\n",
    "\n",
    "# Completion rate (students who completed a course / total enrolled)\n",
    "pipeline_completion_rate = [\n",
    "    {\n",
    "        \"$group\": {\n",
    "            \"_id\": \"$status\",\n",
    "            \"count\": {\"$sum\": 1}\n",
    "        }\n",
    "    }\n",
    "]\n",
    "\n",
    "results = list(db.enrollments.aggregate(pipeline_completion_rate))\n",
    "total = sum(doc[\"count\"] for doc in results)\n",
    "completed = next((doc[\"count\"] for doc in results if doc[\"_id\"] == \"completed\"), 0)\n",
    "completion_rate = (completed / total) * 100 if total else 0\n",
    "print(f\"\\nOverall Course Completion Rate: {round(completion_rate, 2)}%\")\n"
   ]
  },
  {
   "cell_type": "code",
   "execution_count": 92,
   "id": "d63b3313-293b-471f-a187-e5b5058c1682",
   "metadata": {},
   "outputs": [
    {
     "data": {
      "text/plain": [
       "'email_1'"
      ]
     },
     "execution_count": 92,
     "metadata": {},
     "output_type": "execute_result"
    }
   ],
   "source": [
    "#Task 5.1.1 Index creation: User Email LookUP\n",
    "db.users.create_index(\"email\", unique=True)"
   ]
  },
  {
   "cell_type": "code",
   "execution_count": 93,
   "id": "a1510dfa-98f3-466f-b1c8-128e6d1f1a82",
   "metadata": {},
   "outputs": [
    {
     "data": {
      "text/plain": [
       "'title_1_category_1'"
      ]
     },
     "execution_count": 93,
     "metadata": {},
     "output_type": "execute_result"
    }
   ],
   "source": [
    "#Task 5.1.2 Course search by title and category\n",
    "db.courses.create_index([(\"title\", 1), (\"category\", 1)])"
   ]
  },
  {
   "cell_type": "code",
   "execution_count": 94,
   "id": "51b53565-88f3-4b4d-b451-09468ff0abf4",
   "metadata": {},
   "outputs": [
    {
     "data": {
      "text/plain": [
       "'dueDate_1'"
      ]
     },
     "execution_count": 94,
     "metadata": {},
     "output_type": "execute_result"
    }
   ],
   "source": [
    "#Task 5.1.3 Assignment queries by due date\n",
    "db.assignments.create_index(\"dueDate\")"
   ]
  },
  {
   "cell_type": "code",
   "execution_count": 95,
   "id": "e74cbf6c-3eb4-45c9-8380-6131d0b52a06",
   "metadata": {},
   "outputs": [
    {
     "data": {
      "text/plain": [
       "'studentId_1_courseId_1'"
      ]
     },
     "execution_count": 95,
     "metadata": {},
     "output_type": "execute_result"
    }
   ],
   "source": [
    "#Task 5.1.4 enrollment Enrollment queries by student and course\n",
    "db.enrollments.create_index([(\"studentId\", 1), (\"courseId\", 1)])\n"
   ]
  },
  {
   "cell_type": "code",
   "execution_count": 97,
   "id": "775f68e4-af58-43cd-a24e-6ff1fad7ec2b",
   "metadata": {},
   "outputs": [
    {
     "name": "stdout",
     "output_type": "stream",
     "text": [
      "{'queryPlanner': {'plannerVersion': 1, 'namespace': 'eduhub_db.users', 'indexFilterSet': False, 'parsedQuery': {'email': {'$eq': 'student@example.com'}}, 'winningPlan': {'stage': 'FETCH', 'inputStage': {'stage': 'IXSCAN', 'keyPattern': {'email': 1}, 'indexName': 'email_1', 'isMultiKey': False, 'multiKeyPaths': {'email': []}, 'isUnique': True, 'isSparse': False, 'isPartial': False, 'indexVersion': 2, 'direction': 'forward', 'indexBounds': {'email': ['[\"student@example.com\", \"student@example.com\"]']}}}, 'rejectedPlans': []}, 'executionStats': {'executionSuccess': True, 'nReturned': 0, 'executionTimeMillis': 24, 'totalKeysExamined': 0, 'totalDocsExamined': 0, 'executionStages': {'stage': 'FETCH', 'nReturned': 0, 'executionTimeMillisEstimate': 22, 'works': 1, 'advanced': 0, 'needTime': 0, 'needYield': 0, 'saveState': 0, 'restoreState': 0, 'isEOF': 1, 'docsExamined': 0, 'alreadyHasObj': 0, 'inputStage': {'stage': 'IXSCAN', 'nReturned': 0, 'executionTimeMillisEstimate': 22, 'works': 1, 'advanced': 0, 'needTime': 0, 'needYield': 0, 'saveState': 0, 'restoreState': 0, 'isEOF': 1, 'keyPattern': {'email': 1}, 'indexName': 'email_1', 'isMultiKey': False, 'multiKeyPaths': {'email': []}, 'isUnique': True, 'isSparse': False, 'isPartial': False, 'indexVersion': 2, 'direction': 'forward', 'indexBounds': {'email': ['[\"student@example.com\", \"student@example.com\"]']}, 'keysExamined': 0, 'seeks': 1, 'dupsTested': 0, 'dupsDropped': 0}}, 'allPlansExecution': []}, 'serverInfo': {'host': 'Rasheed', 'port': 27017, 'version': '4.4.4', 'gitVersion': '8db30a63db1a9d84bdcad0c83369623f708e0397'}, 'ok': 1.0}\n"
     ]
    }
   ],
   "source": [
    "#Task 5.2.1 Query performance with explain()\n",
    "from pymongo import MongoClient\n",
    "\n",
    "client = MongoClient(\"mongodb://localhost:27017/\")\n",
    "db = client[\"eduhub_db\"]\n",
    "\n",
    "# Example: Find a user by email\n",
    "explanation = db.users.find({\"email\": \"student@example.com\"}).explain()\n",
    "print(explanation)"
   ]
  },
  {
   "cell_type": "code",
   "execution_count": 100,
   "id": "e6f61420-0c16-4281-9a38-3265180988b1",
   "metadata": {},
   "outputs": [
    {
     "name": "stdout",
     "output_type": "stream",
     "text": [
      "User Email Lookup → 0.003 seconds\n"
     ]
    },
    {
     "data": {
      "text/plain": [
       "[]"
      ]
     },
     "execution_count": 100,
     "metadata": {},
     "output_type": "execute_result"
    }
   ],
   "source": [
    "#Task 5.2.2 Optimize 3 slow queries, 1\n",
    "import time\n",
    "def time_query(label, query_func):\n",
    "    start = time.time()\n",
    "    result = query_func()\n",
    "    end = time.time()\n",
    "    duration = round(end - start, 4)\n",
    "    print(f\"{label} → {duration} seconds\")\n",
    "    return result\n",
    "\n",
    "# Create index (if not yet created)\n",
    "db.users.create_index(\"email\", unique=True)\n",
    "\n",
    "# Define the query function\n",
    "def query_user_by_email():\n",
    "    return list(db.users.find({\"email\": \"student@example.com\"}))\n",
    "\n",
    "# Run with timer\n",
    "time_query(\"User Email Lookup\", query_user_by_email)\n"
   ]
  },
  {
   "cell_type": "code",
   "execution_count": 101,
   "id": "43bd430f-6139-4571-96c2-f838bc45a08f",
   "metadata": {},
   "outputs": [
    {
     "name": "stdout",
     "output_type": "stream",
     "text": [
      "Course Title Search → 0.0291 seconds\n"
     ]
    },
    {
     "data": {
      "text/plain": [
       "[{'_id': ObjectId('684fd0c51e9483271544a656'),\n",
       "  'courseId': 'bb2f6188-c83e-45e9-9091-523f57beb49c',\n",
       "  'title': 'Data Visualization with Python',\n",
       "  'description': 'Learn how to visualize data using matplotlib and seaborn.',\n",
       "  'instructorId': '363b3454-b7e4-430b-813b-bd84fe263cb8',\n",
       "  'category': 'Data Science',\n",
       "  'level': 'intermediate',\n",
       "  'duration': 5.5,\n",
       "  'price': 89.99,\n",
       "  'tags': ['data', 'visualization', 'python'],\n",
       "  'createdAt': datetime.datetime(2025, 6, 16, 2, 7, 33, 21000),\n",
       "  'updatedAt': datetime.datetime(2025, 6, 16, 2, 7, 33, 21000),\n",
       "  'isPublished': True}]"
      ]
     },
     "execution_count": 101,
     "metadata": {},
     "output_type": "execute_result"
    }
   ],
   "source": [
    "#Task 5.2.2 Optimize 3 slow queries, 2\n",
    "db.courses.create_index([(\"title\", \"text\"), (\"category\", \"text\")])\n",
    "\n",
    "# Define the text search function\n",
    "def search_courses_by_title():\n",
    "    return list(db.courses.find({\"$text\": {\"$search\": \"python\"}}))\n",
    "\n",
    "# Run with timer\n",
    "time_query(\"Course Title Search\", search_courses_by_title)\n"
   ]
  },
  {
   "cell_type": "code",
   "execution_count": 102,
   "id": "1ac2424c-094a-4098-bffb-f2e495fb4fe0",
   "metadata": {},
   "outputs": [
    {
     "name": "stdout",
     "output_type": "stream",
     "text": [
      "Assignments Due in 7 Days → 0.023 seconds\n"
     ]
    },
    {
     "data": {
      "text/plain": [
       "[]"
      ]
     },
     "execution_count": 102,
     "metadata": {},
     "output_type": "execute_result"
    }
   ],
   "source": [
    "#Task 5.2.2 Optimize 3 slow queries, 3\n",
    "# Ensure index exists\n",
    "db.assignments.create_index(\"dueDate\")\n",
    "\n",
    "# Define the time-based query\n",
    "def upcoming_assignments():\n",
    "    next_week = datetime.now() + timedelta(days=7)\n",
    "    return list(db.assignments.find({\"dueDate\": {\"$lte\": next_week}}))\n",
    "\n",
    "# Run with timer\n",
    "time_query(\"Assignments Due in 7 Days\", upcoming_assignments)\n"
   ]
  },
  {
   "cell_type": "code",
   "execution_count": 103,
   "id": "31374fcb-f423-4dc2-b7d0-ba615643e8d1",
   "metadata": {},
   "outputs": [],
   "source": [
    "#Task 6.1 Schema validation. \n",
    "#Ths handles missing email (required field),wrong role value(not in student  or instructor)\n",
    "#This handles invalid email like test@com (rejection reason is if it fails regex)\n",
    "#This handles skills not an array(rejection reason is TYPE mismatch)\n",
    "#This handles dateJoined as string (rejection reason will be TYPE mismatch)\n",
    "\n",
    "user_validator = {\n",
    "    \"$jsonSchema\": {\n",
    "        \"bsonType\": \"object\",\n",
    "        \"required\": [\"firstName\", \"lastName\", \"email\", \"role\"],\n",
    "        \"properties\": {\n",
    "            \"firstName\": {\n",
    "                \"bsonType\": \"string\",\n",
    "                \"description\": \"Must be a string and is required\"\n",
    "            },\n",
    "            \"lastName\": {\n",
    "                \"bsonType\": \"string\",\n",
    "                \"description\": \"Must be a string and is required\"\n",
    "            },\n",
    "            \"email\": {\n",
    "                \"bsonType\": \"string\",\n",
    "                \"pattern\": \"^\\\\S+@\\\\S+\\\\.\\\\S+$\",\n",
    "                \"description\": \"Must be a valid email address\"\n",
    "            },\n",
    "            \"role\": {\n",
    "                \"enum\": [\"student\", \"instructor\"],\n",
    "                \"description\": \"Can only be 'student' or 'instructor'\"\n",
    "            },\n",
    "            \"dateJoined\": {\n",
    "                \"bsonType\": \"date\",\n",
    "                \"description\": \"Must be a date\"\n",
    "            },\n",
    "            \"profile\": {\n",
    "                \"bsonType\": \"object\",\n",
    "                \"properties\": {\n",
    "                    \"bio\": {\"bsonType\": \"string\"},\n",
    "                    \"avatar\": {\"bsonType\": \"string\"},\n",
    "                    \"skills\": {\n",
    "                        \"bsonType\": \"array\",\n",
    "                        \"items\": {\"bsonType\": \"string\"}\n",
    "                    }\n",
    "                }\n",
    "            },\n",
    "            \"isActive\": {\n",
    "                \"bsonType\": \"bool\",\n",
    "                \"description\": \"Must be true or false\"\n",
    "            }\n",
    "        }\n",
    "    }\n",
    "}\n"
   ]
  },
  {
   "cell_type": "code",
   "execution_count": 109,
   "id": "185ece09-0b43-4094-ae1c-06b08ba2da2f",
   "metadata": {},
   "outputs": [],
   "source": [
    "#Task 6.2\n",
    "from pymongo import MongoClient, errors\n",
    "from datetime import datetime"
   ]
  },
  {
   "cell_type": "code",
   "execution_count": 112,
   "id": "933077a9-0cd8-412e-a772-e8319addec7e",
   "metadata": {},
   "outputs": [
    {
     "name": "stdout",
     "output_type": "stream",
     "text": [
      "Exported all collection data to 'sample_data.json'\n"
     ]
    }
   ],
   "source": [
    "#Export all collections to sample_data.json\n",
    "from pymongo import MongoClient\n",
    "from bson.json_util import dumps\n",
    "import json\n",
    "\n",
    "# Connect to MongoDB\n",
    "client = MongoClient('mongodb://localhost:27017/')\n",
    "db = client['eduhub_db']\n",
    "\n",
    "# List all collections\n",
    "collections = db.list_collection_names()\n",
    "\n",
    "# Export data from each collection\n",
    "export_data = {}\n",
    "\n",
    "for coll_name in collections:\n",
    "    data = list(db[coll_name].find())\n",
    "    export_data[coll_name] = data\n",
    "\n",
    "# Write to JSON file\n",
    "with open(\"sample_data.json\", \"w\") as f:\n",
    "    f.write(dumps(export_data, indent=2))\n",
    "\n",
    "print(\"Exported all collection data to 'sample_data.json'\")\n"
   ]
  },
  {
   "cell_type": "code",
   "execution_count": 113,
   "id": "1a5393a1-0827-4b84-b20b-0262fde1b0bf",
   "metadata": {},
   "outputs": [
    {
     "name": "stdout",
     "output_type": "stream",
     "text": [
      "Exported courses → sample_data_exports\\courses.json\n",
      "Exported assignments → sample_data_exports\\assignments.json\n",
      "Exported submissions → sample_data_exports\\submissions.json\n",
      "Exported users → sample_data_exports\\users.json\n",
      "Exported enrollments → sample_data_exports\\enrollments.json\n",
      "Exported lessons → sample_data_exports\\lessons.json\n"
     ]
    }
   ],
   "source": [
    "#Export of each collection to a folder \"Sample_data_exports\"\n",
    "from pymongo import MongoClient\n",
    "from bson.json_util import dumps\n",
    "import os\n",
    "\n",
    "# Connect to MongoDB\n",
    "client = MongoClient('mongodb://localhost:27017/')\n",
    "db = client['eduhub_db']\n",
    "\n",
    "# Create output directory (if not exists)\n",
    "output_dir = \"sample_data_exports\"\n",
    "os.makedirs(output_dir, exist_ok=True)\n",
    "\n",
    "# List and export each collection\n",
    "collections = db.list_collection_names()\n",
    "\n",
    "for coll_name in collections:\n",
    "    data = list(db[coll_name].find())\n",
    "    filename = os.path.join(output_dir, f\"{coll_name}.json\")\n",
    "    \n",
    "    with open(filename, \"w\") as f:\n",
    "        f.write(dumps(data, indent=2))\n",
    "    \n",
    "    print(f\"Exported {coll_name} → {filename}\")\n"
   ]
  },
  {
   "cell_type": "code",
   "execution_count": 114,
   "id": "35a60035-da08-482c-90a6-21fa62d4b8c0",
   "metadata": {},
   "outputs": [],
   "source": [
    "from bson.json_util import dumps\n",
    "import pandas as pd\n",
    "import os"
   ]
  },
  {
   "cell_type": "code",
   "execution_count": 115,
   "id": "d307cb2d-852e-4da0-b257-4eca3077d568",
   "metadata": {},
   "outputs": [
    {
     "name": "stdout",
     "output_type": "stream",
     "text": [
      "✅ Exported courses to CSV and JSON.\n",
      "✅ Exported assignments to CSV and JSON.\n",
      "✅ Exported submissions to CSV and JSON.\n",
      "✅ Exported users to CSV and JSON.\n",
      "✅ Exported enrollments to CSV and JSON.\n",
      "✅ Exported lessons to CSV and JSON.\n"
     ]
    }
   ],
   "source": [
    "# Output directory, this will export to JSON and CSV format.\n",
    "output_dir = \"sample_data_exports\"\n",
    "os.makedirs(output_dir, exist_ok=True)\n",
    "\n",
    "# Collections to export\n",
    "collections = db.list_collection_names()\n",
    "\n",
    "for coll_name in collections:\n",
    "    # Fetch data\n",
    "    data = list(db[coll_name].find())\n",
    "\n",
    "    # Export to JSON\n",
    "    json_path = os.path.join(output_dir, f\"{coll_name}.json\")\n",
    "    with open(json_path, \"w\") as f:\n",
    "        f.write(dumps(data, indent=2))\n",
    "    \n",
    "    # Export to CSV (flattening embedded fields)\n",
    "    try:\n",
    "        df = pd.json_normalize(data)\n",
    "        csv_path = os.path.join(output_dir, f\"{coll_name}.csv\")\n",
    "        df.to_csv(csv_path, index=False)\n",
    "        print(f\"✅ Exported {coll_name} to CSV and JSON.\")\n",
    "    except Exception as e:\n",
    "        print(f\"Could not export {coll_name} to CSV: {e}\")"
   ]
  },
  {
   "cell_type": "code",
   "execution_count": 118,
   "id": "3d0ba336-893a-49dc-b2b2-6855a26a861f",
   "metadata": {},
   "outputs": [
    {
     "name": "stdout",
     "output_type": "stream",
     "text": [
      "SON([('v', 2), ('key', SON([('_id', 1)])), ('name', '_id_')])\n",
      "SON([('v', 2), ('key', SON([('title', 1), ('category', 1)])), ('name', 'title_1_category_1')])\n",
      "SON([('v', 2), ('key', SON([('_fts', 'text'), ('_ftsx', 1)])), ('name', 'title_text_category_text'), ('weights', SON([('category', 1), ('title', 1)])), ('default_language', 'english'), ('language_override', 'language'), ('textIndexVersion', 3)])\n"
     ]
    }
   ],
   "source": [
    "#Check current indexes on the courses collection\n",
    "for idx in db.courses.list_indexes():\n",
    "    print(idx)\n"
   ]
  },
  {
   "cell_type": "code",
   "execution_count": 119,
   "id": "2b60dda5-a9f1-4656-8d58-950f770026fd",
   "metadata": {},
   "outputs": [
    {
     "name": "stdout",
     "output_type": "stream",
     "text": [
      "Data Visualization with Python - Learn how to visualize data using matplotlib and seaborn.\n",
      "Course 5 - This is course 5 description.\n",
      "Course 3 - This is course 3 description.\n"
     ]
    }
   ],
   "source": [
    "#Bonus1; Text Search for Course Content\n",
    "search_term = \"data science\"\n",
    "\n",
    "results = db.courses.find({\n",
    "    \"$text\": {\n",
    "        \"$search\": search_term\n",
    "    }\n",
    "})\n",
    "\n",
    "for course in results:\n",
    "    print(f\"{course['title']} - {course.get('description', '')}\")\n"
   ]
  },
  {
   "cell_type": "code",
   "execution_count": 121,
   "id": "af4ec760-5ca7-4907-8fd1-1d627154733e",
   "metadata": {},
   "outputs": [],
   "source": [
    "#Bonus 3: Data archiving strategy for old enrollments\n",
    "#A.This will look at enrolment  where completed is true, completeDate or enrolledAt is older than one year\n",
    "\n",
    "from datetime import datetime, timedelta\n",
    "\n",
    "cutoff_date = datetime.now() - timedelta(days=365)\n",
    "criteria = {\n",
    "    \"completed\": True,\n",
    "    \"completionDate\": {\"$lt\": cutoff_date}\n",
    "}\n",
    "\n"
   ]
  },
  {
   "cell_type": "code",
   "execution_count": null,
   "id": "a3b50ea8-336e-4c4c-81c5-6626a14fafbc",
   "metadata": {},
   "outputs": [],
   "source": [
    "#Archive data (Move-and-delete Process)\n",
    "# Step 1: Find old enrollments\n",
    "old_enrollments = list(db.enrollments.find(criteria))\n",
    "\n",
    "# Step 2: Insert into archive collection\n",
    "if old_enrollments:\n",
    "    db.enrollments_archive.insert_many(old_enrollments)\n",
    "\n",
    "    # Step 3: Remove from active collection\n",
    "    ids = [e[\"_id\"] for e in old_enrollments]\n",
    "    db.enrollments.delete_many({\"_id\": {\"$in\": ids}})\n",
    "\n",
    "    print(f\"✅ Archived {len(old_enrollments)} old enrollments.\")\n",
    "else:\n",
    "    print(\"📂 No enrollments to archive.\")\n",
    "\n",
    "db.enrollments_archive.create_index(\"studentId\")\n",
    "db.enrollments_archive.create_index(\"courseId\")\n",
    "db.enrollments_archive.create_index(\"completionDate\")\n"
   ]
  },
  {
   "cell_type": "code",
   "execution_count": 128,
   "id": "f1e66eb6-065b-4d37-a470-cc692414efb6",
   "metadata": {},
   "outputs": [
    {
     "name": "stderr",
     "output_type": "stream",
     "text": [
      "[NbConvertApp] Converting notebook eduhub_mongodb_project.ipynb to script\n",
      "[NbConvertApp] Writing 39512 bytes to eduhub_mongodb_project.py\n"
     ]
    }
   ],
   "source": [
    "!jupyter nbconvert --to script eduhub_mongodb_project.ipynb"
   ]
  },
  {
   "cell_type": "code",
   "execution_count": null,
   "id": "1c401271-ce30-4a68-b6fa-2960e8e8d485",
   "metadata": {},
   "outputs": [],
   "source": []
  }
 ],
 "metadata": {
  "kernelspec": {
   "display_name": "Python 3 (ipykernel)",
   "language": "python",
   "name": "python3"
  },
  "language_info": {
   "codemirror_mode": {
    "name": "ipython",
    "version": 3
   },
   "file_extension": ".py",
   "mimetype": "text/x-python",
   "name": "python",
   "nbconvert_exporter": "python",
   "pygments_lexer": "ipython3",
   "version": "3.10.8"
  }
 },
 "nbformat": 4,
 "nbformat_minor": 5
}
